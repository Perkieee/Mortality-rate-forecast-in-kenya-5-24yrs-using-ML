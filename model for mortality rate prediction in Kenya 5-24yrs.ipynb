{
 "cells": [
  {
   "cell_type": "code",
   "execution_count": 1,
   "id": "2440f327-9ec5-41e0-a9c5-ea0715bdc718",
   "metadata": {
    "tags": []
   },
   "outputs": [],
   "source": [
    "import pandas as pd\n",
    "import matplotlib.pyplot as plt\n",
    "import seaborn as sns"
   ]
  },
  {
   "cell_type": "code",
   "execution_count": 2,
   "id": "56c20e00-b32d-4548-8a2d-da39f502ee71",
   "metadata": {
    "tags": []
   },
   "outputs": [
    {
     "name": "stdout",
     "output_type": "stream",
     "text": [
      "     YEARS  MORTALITY RATE 5-9YRS  MORTALITY RATE 10-14YRS  \\\n",
      "0   1990.5              16.288408                 4.995993   \n",
      "1   1991.5              16.551601                 5.152278   \n",
      "2   1992.5              16.780361                 5.300420   \n",
      "3   1993.5              16.965011                 5.445312   \n",
      "4   1994.5              17.038704                 5.551409   \n",
      "5   1995.5              17.057352                 5.640041   \n",
      "6   1996.5              16.976320                 5.700788   \n",
      "7   1997.5              16.799232                 5.726104   \n",
      "8   1998.5              16.541653                 5.728693   \n",
      "9   1999.5              16.190797                 5.696999   \n",
      "10  2000.5              15.757090                 5.640779   \n",
      "11  2001.5              15.268975                 5.555356   \n",
      "12  2002.5              14.745269                 5.451483   \n",
      "13  2003.5              14.171596                 5.321766   \n",
      "14  2004.5              13.592920                 5.183466   \n",
      "15  2005.5              13.033753                 5.049774   \n",
      "16  2006.5              12.534008                 4.932204   \n",
      "17  2007.5              12.113813                 4.840366   \n",
      "18  2008.5              11.750121                 4.757307   \n",
      "19  2009.5              11.446779                 4.697839   \n",
      "20  2010.5              11.217816                 4.663289   \n",
      "21  2011.5              11.048338                 4.652789   \n",
      "22  2012.5              10.911669                 4.657260   \n",
      "23  2013.5              10.787427                 4.658648   \n",
      "24  2014.5              10.657726                 4.653986   \n",
      "25  2015.5              10.483616                 4.629826   \n",
      "26  2016.5              10.295420                 4.586057   \n",
      "27  2017.5              10.044730                 4.511334   \n",
      "28  2018.5               9.809819                 4.439751   \n",
      "29  2019.5               9.562603                 4.365747   \n",
      "30  2020.5               9.313407                 4.269449   \n",
      "31  2021.5               9.080600                 4.182405   \n",
      "\n",
      "    MORTALITY RATE 15-19YRS  MORTALITY RATE 20-24YRS  \n",
      "0                  8.821682                14.424631  \n",
      "1                  9.175367                15.052125  \n",
      "2                  9.517457                15.656133  \n",
      "3                  9.836429                16.232256  \n",
      "4                 10.120292                16.723057  \n",
      "5                 10.362692                17.163587  \n",
      "6                 10.561756                17.517345  \n",
      "7                 10.694267                17.714244  \n",
      "8                 10.761475                17.833761  \n",
      "9                 10.761380                17.781286  \n",
      "10                10.704029                17.643290  \n",
      "11                10.574868                17.408655  \n",
      "12                10.426914                17.112397  \n",
      "13                10.251979                16.715363  \n",
      "14                10.048918                16.275252  \n",
      "15                 9.829258                15.774706  \n",
      "16                 9.597496                15.217914  \n",
      "17                 9.358363                14.676221  \n",
      "18                 9.095644                14.119485  \n",
      "19                 8.833046                13.537094  \n",
      "20                 8.549058                12.968039  \n",
      "21                 8.256492                12.412431  \n",
      "22                 7.958686                11.855163  \n",
      "23                 7.663814                11.362318  \n",
      "24                 7.406321                10.989109  \n",
      "25                 7.181987                10.702227  \n",
      "26                 6.974279                10.496334  \n",
      "27                 6.751159                10.304651  \n",
      "28                 6.537228                10.133185  \n",
      "29                 6.345459                 9.986374  \n",
      "30                 6.161331                 9.840406  \n",
      "31                 5.967244                 9.732291  \n"
     ]
    }
   ],
   "source": [
    "import pandas as pd\n",
    "\n",
    "# Replace 'your_excel_file.xlsx' with the actual path to your Excel file\n",
    "excel_file_path = r'C:\\Users\\Sir\\python lessons\\MORTALITYRATESTRANSPOSED.xlsx'\n",
    "\n",
    "# Read the Excel file into a pandas DataFrame\n",
    "df = pd.read_excel('MORTALITYRATESTRANSPOSED.xlsx')\n",
    "\n",
    "# Display the DataFrame to verify that the data has been loaded successfully\n",
    "print(df)\n"
   ]
  },
  {
   "cell_type": "code",
   "execution_count": 3,
   "id": "e31ac78f-5afd-4132-8f5e-e94a179527c2",
   "metadata": {
    "tags": []
   },
   "outputs": [
    {
     "name": "stdout",
     "output_type": "stream",
     "text": [
      "    YEARS  MORTALITY RATE 5-9YRS  MORTALITY RATE 10-14YRS  \\\n",
      "0  1990.5              16.288408                 4.995993   \n",
      "1  1991.5              16.551601                 5.152278   \n",
      "2  1992.5              16.780361                 5.300420   \n",
      "3  1993.5              16.965011                 5.445312   \n",
      "4  1994.5              17.038704                 5.551409   \n",
      "\n",
      "   MORTALITY RATE 15-19YRS  MORTALITY RATE 20-24YRS  \n",
      "0                 8.821682                14.424631  \n",
      "1                 9.175367                15.052125  \n",
      "2                 9.517457                15.656133  \n",
      "3                 9.836429                16.232256  \n",
      "4                10.120292                16.723057  \n",
      "             YEARS  MORTALITY RATE 5-9YRS  MORTALITY RATE 10-14YRS  \\\n",
      "count    32.000000              32.000000                32.000000   \n",
      "mean   2006.000000              13.275529                 5.019966   \n",
      "std       9.380832               2.864162                 0.486720   \n",
      "min    1990.500000               9.080600                 4.182405   \n",
      "25%    1998.250000              10.755002                 4.653687   \n",
      "50%    2006.000000              12.783880                 4.964098   \n",
      "75%    2013.750000              16.351719                 5.476464   \n",
      "max    2021.500000              17.057352                 5.728693   \n",
      "\n",
      "       MORTALITY RATE 15-19YRS  MORTALITY RATE 20-24YRS  \n",
      "count                32.000000                32.000000  \n",
      "mean                  8.908949                14.230042  \n",
      "std                   1.562550                 2.895750  \n",
      "min                   5.967244                 9.732291  \n",
      "25%                   7.599441                11.269016  \n",
      "50%                   9.266865                14.864173  \n",
      "75%                  10.279658                16.820392  \n",
      "max                  10.761475                17.833761  \n"
     ]
    }
   ],
   "source": [
    "print(df.head())\n",
    "print(df.describe())"
   ]
  },
  {
   "cell_type": "code",
   "execution_count": 4,
   "id": "d375954b-b539-4797-a21b-f50f24a80eed",
   "metadata": {
    "tags": []
   },
   "outputs": [
    {
     "name": "stdout",
     "output_type": "stream",
     "text": [
      "Sum of mortality rates for row 0: 44.530713630807384\n",
      "44.530713630807384\n"
     ]
    }
   ],
   "source": [
    "# Assuming df is your DataFrame containing the mortality rate data\n",
    "\n",
    "# Convert columns to numeric (in case they are not already)\n",
    "numeric_columns = ['MORTALITY RATE 5-9YRS', 'MORTALITY RATE 10-14YRS', 'MORTALITY RATE 15-19YRS', 'MORTALITY RATE 20-24YRS']\n",
    "df[numeric_columns] = df[numeric_columns].apply(pd.to_numeric, errors='coerce')\n",
    "\n",
    "# Specify the row index for which you want to calculate the sum (e.g., row 1)\n",
    "row_index = 0\n",
    "\n",
    "# Calculate the sum of mortality rates for the specified row\n",
    "sum_of_mortality_rates_1990_5= df.loc[row_index, numeric_columns].sum()\n",
    "\n",
    "# Display the result\n",
    "print(f\"Sum of mortality rates for row {row_index}: {sum_of_mortality_rates_1990_5}\")\n",
    "RT1990_5=sum_of_mortality_rates_1990_5\n",
    "print(RT1990_5)"
   ]
  },
  {
   "cell_type": "code",
   "execution_count": 5,
   "id": "cc857ad1-5b93-4508-afb5-6881d3162653",
   "metadata": {
    "tags": []
   },
   "outputs": [
    {
     "name": "stdout",
     "output_type": "stream",
     "text": [
      "Sum of mortality rates for row 1: 45.9313709767028\n",
      "45.9313709767028\n"
     ]
    }
   ],
   "source": [
    "# Assuming df is your DataFrame containing the mortality rate data\n",
    "\n",
    "# Convert columns to numeric (in case they are not already)\n",
    "numeric_columns = ['MORTALITY RATE 5-9YRS', 'MORTALITY RATE 10-14YRS', 'MORTALITY RATE 15-19YRS', 'MORTALITY RATE 20-24YRS']\n",
    "df[numeric_columns] = df[numeric_columns].apply(pd.to_numeric, errors='coerce')\n",
    "\n",
    "# Specify the row index for which you want to calculate the sum (e.g., row 1)\n",
    "row_index = 1\n",
    "\n",
    "# Calculate the sum of mortality rates for the specified row\n",
    "sum_of_mortality_rates_1991_5= df.loc[row_index, numeric_columns].sum()\n",
    "\n",
    "# Display the result\n",
    "print(f\"Sum of mortality rates for row {row_index}: {sum_of_mortality_rates_1991_5}\")\n",
    "RT1991_5=sum_of_mortality_rates_1991_5\n",
    "print(RT1991_5)"
   ]
  },
  {
   "cell_type": "code",
   "execution_count": 6,
   "id": "e65d593b-0a69-4063-8330-e8aa43ecfb58",
   "metadata": {
    "tags": []
   },
   "outputs": [
    {
     "name": "stdout",
     "output_type": "stream",
     "text": [
      "Sum of mortality rates for row 2: 47.25437111319687\n",
      "47.25437111319687\n"
     ]
    }
   ],
   "source": [
    "# Assuming df is your DataFrame containing the mortality rate data\n",
    "\n",
    "# Convert columns to numeric (in case they are not already)\n",
    "numeric_columns = ['MORTALITY RATE 5-9YRS', 'MORTALITY RATE 10-14YRS', 'MORTALITY RATE 15-19YRS', 'MORTALITY RATE 20-24YRS']\n",
    "df[numeric_columns] = df[numeric_columns].apply(pd.to_numeric, errors='coerce')\n",
    "\n",
    "# Specify the row index for which you want to calculate the sum (e.g., row 1)\n",
    "row_index = 2\n",
    "\n",
    "# Calculate the sum of mortality rates for the specified row\n",
    "sum_of_mortality_rates_1992_5= df.loc[row_index, numeric_columns].sum()\n",
    "\n",
    "# Display the result\n",
    "print(f\"Sum of mortality rates for row {row_index}: {sum_of_mortality_rates_1992_5}\")\n",
    "RT1992_5=sum_of_mortality_rates_1992_5\n",
    "print(RT1992_5)"
   ]
  },
  {
   "cell_type": "code",
   "execution_count": 7,
   "id": "9a0c62b8-d833-4a70-b038-12806ac4cfe4",
   "metadata": {
    "tags": []
   },
   "outputs": [
    {
     "name": "stdout",
     "output_type": "stream",
     "text": [
      "Sum of mortality rates for row 3: 48.47900860331975\n",
      "48.47900860331975\n"
     ]
    }
   ],
   "source": [
    "# Convert columns to numeric (in case they are not already)\n",
    "numeric_columns = ['MORTALITY RATE 5-9YRS', 'MORTALITY RATE 10-14YRS', 'MORTALITY RATE 15-19YRS', 'MORTALITY RATE 20-24YRS']\n",
    "df[numeric_columns] = df[numeric_columns].apply(pd.to_numeric, errors='coerce')\n",
    "\n",
    "# Specify the row index for which you want to calculate the sum (e.g., row 1)\n",
    "row_index = 3\n",
    "\n",
    "# Calculate the sum of mortality rates for the specified row\n",
    "sum_of_mortality_rates_1993_5= df.loc[row_index, numeric_columns].sum()\n",
    "\n",
    "# Display the result\n",
    "print(f\"Sum of mortality rates for row {row_index}: {sum_of_mortality_rates_1993_5}\")\n",
    "RT1993_5=sum_of_mortality_rates_1993_5\n",
    "print(RT1993_5)"
   ]
  },
  {
   "cell_type": "code",
   "execution_count": 8,
   "id": "dbde9084-2a54-4e45-9673-5e9e115e7916",
   "metadata": {
    "tags": []
   },
   "outputs": [
    {
     "name": "stdout",
     "output_type": "stream",
     "text": [
      "Sum of mortality rates for row 4: 49.433462734244095\n",
      "49.433462734244095\n"
     ]
    }
   ],
   "source": [
    "# Convert columns to numeric (in case they are not already)\n",
    "numeric_columns = ['MORTALITY RATE 5-9YRS', 'MORTALITY RATE 10-14YRS', 'MORTALITY RATE 15-19YRS', 'MORTALITY RATE 20-24YRS']\n",
    "df[numeric_columns] = df[numeric_columns].apply(pd.to_numeric, errors='coerce')\n",
    "\n",
    "# Specify the row index for which you want to calculate the sum (e.g., row 1)\n",
    "row_index = 4\n",
    "\n",
    "# Calculate the sum of mortality rates for the specified row\n",
    "sum_of_mortality_rates_1994_5= df.loc[row_index, numeric_columns].sum()\n",
    "\n",
    "# Display the result\n",
    "print(f\"Sum of mortality rates for row {row_index}: {sum_of_mortality_rates_1994_5}\")\n",
    "RT1994_5=sum_of_mortality_rates_1994_5\n",
    "print(RT1994_5)"
   ]
  },
  {
   "cell_type": "code",
   "execution_count": 9,
   "id": "28589f1e-d401-48d0-9893-8f92239ed4e1",
   "metadata": {
    "tags": []
   },
   "outputs": [
    {
     "name": "stdout",
     "output_type": "stream",
     "text": [
      "Sum of mortality rates for row 5: 50.22367326587619\n",
      "50.22367326587619\n"
     ]
    }
   ],
   "source": [
    "# Convert columns to numeric (in case they are not already)\n",
    "numeric_columns = ['MORTALITY RATE 5-9YRS', 'MORTALITY RATE 10-14YRS', 'MORTALITY RATE 15-19YRS', 'MORTALITY RATE 20-24YRS']\n",
    "df[numeric_columns] = df[numeric_columns].apply(pd.to_numeric, errors='coerce')\n",
    "\n",
    "# Specify the row index for which you want to calculate the sum (e.g., row 1)\n",
    "row_index = 5\n",
    "\n",
    "# Calculate the sum of mortality rates for the specified row\n",
    "sum_of_mortality_rates_1995_5= df.loc[row_index, numeric_columns].sum()\n",
    "\n",
    "# Display the result\n",
    "print(f\"Sum of mortality rates for row {row_index}: {sum_of_mortality_rates_1995_5}\")\n",
    "RT1995_5=sum_of_mortality_rates_1995_5\n",
    "print(RT1995_5)"
   ]
  },
  {
   "cell_type": "code",
   "execution_count": 10,
   "id": "b56e8779-0349-4b98-85f6-1d9dde7b8943",
   "metadata": {
    "tags": []
   },
   "outputs": [
    {
     "name": "stdout",
     "output_type": "stream",
     "text": [
      "Sum of mortality rates for row 6: 50.756208896048435\n",
      "50.756208896048435\n"
     ]
    }
   ],
   "source": [
    "# Convert columns to numeric (in case they are not already)\n",
    "numeric_columns = ['MORTALITY RATE 5-9YRS', 'MORTALITY RATE 10-14YRS', 'MORTALITY RATE 15-19YRS', 'MORTALITY RATE 20-24YRS']\n",
    "df[numeric_columns] = df[numeric_columns].apply(pd.to_numeric, errors='coerce')\n",
    "\n",
    "# Specify the row index for which you want to calculate the sum (e.g., row 1)\n",
    "row_index = 6\n",
    "\n",
    "# Calculate the sum of mortality rates for the specified row\n",
    "sum_of_mortality_rates_1996_5= df.loc[row_index, numeric_columns].sum()\n",
    "\n",
    "# Display the result\n",
    "print(f\"Sum of mortality rates for row {row_index}: {sum_of_mortality_rates_1996_5}\")\n",
    "RT1996_5=sum_of_mortality_rates_1996_5\n",
    "print(RT1996_5)"
   ]
  },
  {
   "cell_type": "code",
   "execution_count": 11,
   "id": "849957f8-d0dd-49c7-9eef-4d90171fd5a6",
   "metadata": {
    "tags": []
   },
   "outputs": [
    {
     "name": "stdout",
     "output_type": "stream",
     "text": [
      "Sum of mortality rates for row 7: 50.93384735712898\n",
      "50.93384735712898\n"
     ]
    }
   ],
   "source": [
    "# Convert columns to numeric (in case they are not already)\n",
    "numeric_columns = ['MORTALITY RATE 5-9YRS', 'MORTALITY RATE 10-14YRS', 'MORTALITY RATE 15-19YRS', 'MORTALITY RATE 20-24YRS']\n",
    "df[numeric_columns] = df[numeric_columns].apply(pd.to_numeric, errors='coerce')\n",
    "\n",
    "# Specify the row index for which you want to calculate the sum (e.g., row 1)\n",
    "row_index = 7\n",
    "\n",
    "# Calculate the sum of mortality rates for the specified row\n",
    "sum_of_mortality_rates_1997_5= df.loc[row_index, numeric_columns].sum()\n",
    "\n",
    "# Display the result\n",
    "print(f\"Sum of mortality rates for row {row_index}: {sum_of_mortality_rates_1997_5}\")\n",
    "RT1997_5=sum_of_mortality_rates_1997_5\n",
    "print(RT1997_5)"
   ]
  },
  {
   "cell_type": "code",
   "execution_count": 12,
   "id": "c310c223-1a82-4600-90ef-891eba34f58c",
   "metadata": {
    "tags": []
   },
   "outputs": [
    {
     "name": "stdout",
     "output_type": "stream",
     "text": [
      "Sum of mortality rates for row 8: 50.86558233772345\n",
      "50.86558233772345\n"
     ]
    }
   ],
   "source": [
    "# Convert columns to numeric (in case they are not already)\n",
    "numeric_columns = ['MORTALITY RATE 5-9YRS', 'MORTALITY RATE 10-14YRS', 'MORTALITY RATE 15-19YRS', 'MORTALITY RATE 20-24YRS']\n",
    "df[numeric_columns] = df[numeric_columns].apply(pd.to_numeric, errors='coerce')\n",
    "\n",
    "# Specify the row index for which you want to calculate the sum (e.g., row 1)\n",
    "row_index = 8\n",
    "\n",
    "# Calculate the sum of mortality rates for the specified row\n",
    "sum_of_mortality_rates_1998_5= df.loc[row_index, numeric_columns].sum()\n",
    "\n",
    "# Display the result\n",
    "print(f\"Sum of mortality rates for row {row_index}: {sum_of_mortality_rates_1998_5}\")\n",
    "RT1998_5=sum_of_mortality_rates_1998_5\n",
    "print(RT1998_5)"
   ]
  },
  {
   "cell_type": "code",
   "execution_count": 13,
   "id": "869a3f87-e875-4d4f-807f-8e596d708859",
   "metadata": {
    "tags": []
   },
   "outputs": [
    {
     "name": "stdout",
     "output_type": "stream",
     "text": [
      "Sum of mortality rates for row 9: 50.43046106810155\n",
      "50.43046106810155\n"
     ]
    }
   ],
   "source": [
    "# Convert columns to numeric (in case they are not already)\n",
    "numeric_columns = ['MORTALITY RATE 5-9YRS', 'MORTALITY RATE 10-14YRS', 'MORTALITY RATE 15-19YRS', 'MORTALITY RATE 20-24YRS']\n",
    "df[numeric_columns] = df[numeric_columns].apply(pd.to_numeric, errors='coerce')\n",
    "\n",
    "# Specify the row index for which you want to calculate the sum (e.g., row 1)\n",
    "row_index = 9\n",
    "\n",
    "# Calculate the sum of mortality rates for the specified row\n",
    "sum_of_mortality_rates_1999_5= df.loc[row_index, numeric_columns].sum()\n",
    "\n",
    "# Display the result\n",
    "print(f\"Sum of mortality rates for row {row_index}: {sum_of_mortality_rates_1999_5}\")\n",
    "RT1999_5=sum_of_mortality_rates_1999_5\n",
    "print(RT1999_5)"
   ]
  },
  {
   "cell_type": "code",
   "execution_count": 14,
   "id": "ad683474-b83b-48e5-805a-abcd29ebec9f",
   "metadata": {
    "tags": []
   },
   "outputs": [
    {
     "name": "stdout",
     "output_type": "stream",
     "text": [
      "Sum of mortality rates for row 10: 49.74518768163261\n",
      "49.74518768163261\n"
     ]
    }
   ],
   "source": [
    "# Convert columns to numeric (in case they are not already)\n",
    "numeric_columns = ['MORTALITY RATE 5-9YRS', 'MORTALITY RATE 10-14YRS', 'MORTALITY RATE 15-19YRS', 'MORTALITY RATE 20-24YRS']\n",
    "df[numeric_columns] = df[numeric_columns].apply(pd.to_numeric, errors='coerce')\n",
    "\n",
    "# Specify the row index for which you want to calculate the sum (e.g., row 1)\n",
    "row_index = 10\n",
    "\n",
    "# Calculate the sum of mortality rates for the specified row\n",
    "sum_of_mortality_rates_2000_5= df.loc[row_index, numeric_columns].sum()\n",
    "\n",
    "# Display the result\n",
    "print(f\"Sum of mortality rates for row {row_index}: {sum_of_mortality_rates_2000_5}\")\n",
    "RT2000_5=sum_of_mortality_rates_2000_5\n",
    "print(RT2000_5)"
   ]
  },
  {
   "cell_type": "code",
   "execution_count": 15,
   "id": "b1edcc70-db3f-41a5-8b94-646efe6b391c",
   "metadata": {
    "tags": []
   },
   "outputs": [
    {
     "name": "stdout",
     "output_type": "stream",
     "text": [
      "Sum of mortality rates for row 11: 48.80785466448579\n",
      "48.80785466448579\n"
     ]
    }
   ],
   "source": [
    "# Convert columns to numeric (in case they are not already)\n",
    "numeric_columns = ['MORTALITY RATE 5-9YRS', 'MORTALITY RATE 10-14YRS', 'MORTALITY RATE 15-19YRS', 'MORTALITY RATE 20-24YRS']\n",
    "df[numeric_columns] = df[numeric_columns].apply(pd.to_numeric, errors='coerce')\n",
    "\n",
    "# Specify the row index for which you want to calculate the sum (e.g., row 1)\n",
    "row_index = 11\n",
    "\n",
    "# Calculate the sum of mortality rates for the specified row\n",
    "sum_of_mortality_rates_2001_5= df.loc[row_index, numeric_columns].sum()\n",
    "\n",
    "# Display the result\n",
    "print(f\"Sum of mortality rates for row {row_index}: {sum_of_mortality_rates_2001_5}\")\n",
    "RT2001_5=sum_of_mortality_rates_2001_5\n",
    "print(RT2001_5)"
   ]
  },
  {
   "cell_type": "code",
   "execution_count": 16,
   "id": "2c5f759a-9817-430a-b56a-0f3919f0f551",
   "metadata": {
    "tags": []
   },
   "outputs": [
    {
     "name": "stdout",
     "output_type": "stream",
     "text": [
      "Sum of mortality rates for row 12: 47.73606206443224\n",
      "47.73606206443224\n"
     ]
    }
   ],
   "source": [
    "# Convert columns to numeric (in case they are not already)\n",
    "numeric_columns = ['MORTALITY RATE 5-9YRS', 'MORTALITY RATE 10-14YRS', 'MORTALITY RATE 15-19YRS', 'MORTALITY RATE 20-24YRS']\n",
    "df[numeric_columns] = df[numeric_columns].apply(pd.to_numeric, errors='coerce')\n",
    "\n",
    "# Specify the row index for which you want to calculate the sum (e.g., row 1)\n",
    "row_index = 12\n",
    "\n",
    "# Calculate the sum of mortality rates for the specified row\n",
    "sum_of_mortality_rates_2002_5= df.loc[row_index, numeric_columns].sum()\n",
    "\n",
    "# Display the result\n",
    "print(f\"Sum of mortality rates for row {row_index}: {sum_of_mortality_rates_2002_5}\")\n",
    "RT2002_5=sum_of_mortality_rates_2002_5\n",
    "print(RT2002_5)"
   ]
  },
  {
   "cell_type": "code",
   "execution_count": 17,
   "id": "5879316a-755c-4689-803c-671c1be5bd49",
   "metadata": {
    "tags": []
   },
   "outputs": [
    {
     "name": "stdout",
     "output_type": "stream",
     "text": [
      "Sum of mortality rates for row 13: 46.46070447885945\n",
      "46.46070447885945\n"
     ]
    }
   ],
   "source": [
    "# Convert columns to numeric (in case they are not already)\n",
    "numeric_columns = ['MORTALITY RATE 5-9YRS', 'MORTALITY RATE 10-14YRS', 'MORTALITY RATE 15-19YRS', 'MORTALITY RATE 20-24YRS']\n",
    "df[numeric_columns] = df[numeric_columns].apply(pd.to_numeric, errors='coerce')\n",
    "\n",
    "# Specify the row index for which you want to calculate the sum (e.g., row 1)\n",
    "row_index = 13\n",
    "\n",
    "# Calculate the sum of mortality rates for the specified row\n",
    "sum_of_mortality_rates_2003_5= df.loc[row_index, numeric_columns].sum()\n",
    "\n",
    "# Display the result\n",
    "print(f\"Sum of mortality rates for row {row_index}: {sum_of_mortality_rates_2003_5}\")\n",
    "RT2003_5=sum_of_mortality_rates_2003_5\n",
    "print(RT2003_5)"
   ]
  },
  {
   "cell_type": "code",
   "execution_count": 18,
   "id": "e74780c6-e708-4a1a-a2f5-9d91acb32b1f",
   "metadata": {
    "tags": []
   },
   "outputs": [
    {
     "name": "stdout",
     "output_type": "stream",
     "text": [
      "Sum of mortality rates for row 14: 45.1005551017956\n",
      "45.1005551017956\n"
     ]
    }
   ],
   "source": [
    "# Convert columns to numeric (in case they are not already)\n",
    "numeric_columns = ['MORTALITY RATE 5-9YRS', 'MORTALITY RATE 10-14YRS', 'MORTALITY RATE 15-19YRS', 'MORTALITY RATE 20-24YRS']\n",
    "df[numeric_columns] = df[numeric_columns].apply(pd.to_numeric, errors='coerce')\n",
    "\n",
    "# Specify the row index for which you want to calculate the sum (e.g., row 1)\n",
    "row_index = 14\n",
    "\n",
    "# Calculate the sum of mortality rates for the specified row\n",
    "sum_of_mortality_rates_2004_5= df.loc[row_index, numeric_columns].sum()\n",
    "\n",
    "# Display the result\n",
    "print(f\"Sum of mortality rates for row {row_index}: {sum_of_mortality_rates_2004_5}\")\n",
    "RT2004_5=sum_of_mortality_rates_2004_5\n",
    "print(RT2004_5)"
   ]
  },
  {
   "cell_type": "code",
   "execution_count": 19,
   "id": "a300e6b3-8f5d-482a-81f8-f8de88cbeb45",
   "metadata": {
    "tags": []
   },
   "outputs": [
    {
     "name": "stdout",
     "output_type": "stream",
     "text": [
      "Sum of mortality rates for row 15: 43.68748999520376\n",
      "43.68748999520376\n"
     ]
    }
   ],
   "source": [
    "# Convert columns to numeric (in case they are not already)\n",
    "numeric_columns = ['MORTALITY RATE 5-9YRS', 'MORTALITY RATE 10-14YRS', 'MORTALITY RATE 15-19YRS', 'MORTALITY RATE 20-24YRS']\n",
    "df[numeric_columns] = df[numeric_columns].apply(pd.to_numeric, errors='coerce')\n",
    "\n",
    "# Specify the row index for which you want to calculate the sum (e.g., row 1)\n",
    "row_index = 15\n",
    "\n",
    "# Calculate the sum of mortality rates for the specified row\n",
    "sum_of_mortality_rates_2005_5= df.loc[row_index, numeric_columns].sum()\n",
    "\n",
    "# Display the result\n",
    "print(f\"Sum of mortality rates for row {row_index}: {sum_of_mortality_rates_2005_5}\")\n",
    "RT2005_5=sum_of_mortality_rates_2005_5\n",
    "print(RT2005_5)"
   ]
  },
  {
   "cell_type": "code",
   "execution_count": 20,
   "id": "2b20bda3-a6a9-42d5-86d3-5be3935c413d",
   "metadata": {
    "tags": []
   },
   "outputs": [
    {
     "name": "stdout",
     "output_type": "stream",
     "text": [
      "Sum of mortality rates for row 16: 42.28162207444221\n",
      "42.28162207444221\n"
     ]
    }
   ],
   "source": [
    "# Convert columns to numeric (in case they are not already)\n",
    "numeric_columns = ['MORTALITY RATE 5-9YRS', 'MORTALITY RATE 10-14YRS', 'MORTALITY RATE 15-19YRS', 'MORTALITY RATE 20-24YRS']\n",
    "df[numeric_columns] = df[numeric_columns].apply(pd.to_numeric, errors='coerce')\n",
    "\n",
    "# Specify the row index for which you want to calculate the sum (e.g., row 1)\n",
    "row_index = 16\n",
    "\n",
    "# Calculate the sum of mortality rates for the specified row\n",
    "sum_of_mortality_rates_2006_5= df.loc[row_index, numeric_columns].sum()\n",
    "\n",
    "# Display the result\n",
    "print(f\"Sum of mortality rates for row {row_index}: {sum_of_mortality_rates_2006_5}\")\n",
    "RT2006_5=sum_of_mortality_rates_2006_5\n",
    "print(RT2006_5)"
   ]
  },
  {
   "cell_type": "code",
   "execution_count": 21,
   "id": "bfcea963-b9bd-4444-9327-9dfba8d16020",
   "metadata": {
    "tags": []
   },
   "outputs": [
    {
     "name": "stdout",
     "output_type": "stream",
     "text": [
      "Sum of mortality rates for row 17: 40.98876273578068\n",
      "40.98876273578068\n"
     ]
    }
   ],
   "source": [
    "# Convert columns to numeric (in case they are not already)\n",
    "numeric_columns = ['MORTALITY RATE 5-9YRS', 'MORTALITY RATE 10-14YRS', 'MORTALITY RATE 15-19YRS', 'MORTALITY RATE 20-24YRS']\n",
    "df[numeric_columns] = df[numeric_columns].apply(pd.to_numeric, errors='coerce')\n",
    "\n",
    "# Specify the row index for which you want to calculate the sum (e.g., row 1)\n",
    "row_index = 17\n",
    "\n",
    "# Calculate the sum of mortality rates for the specified row\n",
    "sum_of_mortality_rates_2007_5= df.loc[row_index, numeric_columns].sum()\n",
    "\n",
    "# Display the result\n",
    "print(f\"Sum of mortality rates for row {row_index}: {sum_of_mortality_rates_2007_5}\")\n",
    "RT2007_5=sum_of_mortality_rates_2007_5\n",
    "print(RT2007_5)"
   ]
  },
  {
   "cell_type": "code",
   "execution_count": 22,
   "id": "4f14875c-769f-401f-bf38-66fd2c00f075",
   "metadata": {
    "tags": []
   },
   "outputs": [
    {
     "name": "stdout",
     "output_type": "stream",
     "text": [
      "Sum of mortality rates for row 18: 39.722557182976225\n",
      "39.722557182976225\n"
     ]
    }
   ],
   "source": [
    "# Convert columns to numeric (in case they are not already)\n",
    "numeric_columns = ['MORTALITY RATE 5-9YRS', 'MORTALITY RATE 10-14YRS', 'MORTALITY RATE 15-19YRS', 'MORTALITY RATE 20-24YRS']\n",
    "df[numeric_columns] = df[numeric_columns].apply(pd.to_numeric, errors='coerce')\n",
    "\n",
    "# Specify the row index for which you want to calculate the sum (e.g., row 1)\n",
    "row_index = 18\n",
    "\n",
    "# Calculate the sum of mortality rates for the specified row\n",
    "sum_of_mortality_rates_2008_5= df.loc[row_index, numeric_columns].sum()\n",
    "\n",
    "# Display the result\n",
    "print(f\"Sum of mortality rates for row {row_index}: {sum_of_mortality_rates_2008_5}\")\n",
    "RT2008_5=sum_of_mortality_rates_2008_5\n",
    "print(RT2008_5)"
   ]
  },
  {
   "cell_type": "code",
   "execution_count": 23,
   "id": "c78db853-7ad9-4e22-ab9d-b45a9bc12d06",
   "metadata": {
    "tags": []
   },
   "outputs": [
    {
     "name": "stdout",
     "output_type": "stream",
     "text": [
      "Sum of mortality rates for row 19: 38.51475811251094\n",
      "38.51475811251094\n"
     ]
    }
   ],
   "source": [
    "# Convert columns to numeric (in case they are not already)\n",
    "numeric_columns = ['MORTALITY RATE 5-9YRS', 'MORTALITY RATE 10-14YRS', 'MORTALITY RATE 15-19YRS', 'MORTALITY RATE 20-24YRS']\n",
    "df[numeric_columns] = df[numeric_columns].apply(pd.to_numeric, errors='coerce')\n",
    "\n",
    "# Specify the row index for which you want to calculate the sum (e.g., row 1)\n",
    "row_index = 19\n",
    "\n",
    "# Calculate the sum of mortality rates for the specified row\n",
    "sum_of_mortality_rates_2009_5= df.loc[row_index, numeric_columns].sum()\n",
    "\n",
    "# Display the result\n",
    "print(f\"Sum of mortality rates for row {row_index}: {sum_of_mortality_rates_2009_5}\")\n",
    "RT2009_5=sum_of_mortality_rates_2009_5\n",
    "print(RT2009_5)"
   ]
  },
  {
   "cell_type": "code",
   "execution_count": 24,
   "id": "3d4e36b8-f066-4f1d-a689-ddb33989ad27",
   "metadata": {
    "tags": []
   },
   "outputs": [
    {
     "name": "stdout",
     "output_type": "stream",
     "text": [
      "Sum of mortality rates for row 20: 37.3982020052818\n",
      "37.3982020052818\n"
     ]
    }
   ],
   "source": [
    "# Convert columns to numeric (in case they are not already)\n",
    "numeric_columns = ['MORTALITY RATE 5-9YRS', 'MORTALITY RATE 10-14YRS', 'MORTALITY RATE 15-19YRS', 'MORTALITY RATE 20-24YRS']\n",
    "df[numeric_columns] = df[numeric_columns].apply(pd.to_numeric, errors='coerce')\n",
    "\n",
    "# Specify the row index for which you want to calculate the sum (e.g., row 1)\n",
    "row_index = 20\n",
    "\n",
    "# Calculate the sum of mortality rates for the specified row\n",
    "sum_of_mortality_rates_2010_5= df.loc[row_index, numeric_columns].sum()\n",
    "\n",
    "# Display the result\n",
    "print(f\"Sum of mortality rates for row {row_index}: {sum_of_mortality_rates_2010_5}\")\n",
    "RT2010_5=sum_of_mortality_rates_2010_5\n",
    "print(RT2010_5)"
   ]
  },
  {
   "cell_type": "code",
   "execution_count": 25,
   "id": "8ab7209a-f70f-40e1-beb8-4d541d7553be",
   "metadata": {
    "tags": []
   },
   "outputs": [
    {
     "name": "stdout",
     "output_type": "stream",
     "text": [
      "Sum of mortality rates for row 21: 36.37005044413791\n",
      "36.37005044413791\n"
     ]
    }
   ],
   "source": [
    "# Convert columns to numeric (in case they are not already)\n",
    "numeric_columns = ['MORTALITY RATE 5-9YRS', 'MORTALITY RATE 10-14YRS', 'MORTALITY RATE 15-19YRS', 'MORTALITY RATE 20-24YRS']\n",
    "df[numeric_columns] = df[numeric_columns].apply(pd.to_numeric, errors='coerce')\n",
    "\n",
    "# Specify the row index for which you want to calculate the sum (e.g., row 1)\n",
    "row_index = 21\n",
    "\n",
    "# Calculate the sum of mortality rates for the specified row\n",
    "sum_of_mortality_rates_2011_5= df.loc[row_index, numeric_columns].sum()\n",
    "\n",
    "# Display the result\n",
    "print(f\"Sum of mortality rates for row {row_index}: {sum_of_mortality_rates_2011_5}\")\n",
    "RT2011_5=sum_of_mortality_rates_2011_5\n",
    "print(RT2011_5)"
   ]
  },
  {
   "cell_type": "code",
   "execution_count": 26,
   "id": "a1276698-93a0-4da0-a7e2-ed1735264af3",
   "metadata": {
    "tags": []
   },
   "outputs": [
    {
     "name": "stdout",
     "output_type": "stream",
     "text": [
      "Sum of mortality rates for row 22: 35.38277714888177\n",
      "35.38277714888177\n"
     ]
    }
   ],
   "source": [
    "# Convert columns to numeric (in case they are not already)\n",
    "numeric_columns = ['MORTALITY RATE 5-9YRS', 'MORTALITY RATE 10-14YRS', 'MORTALITY RATE 15-19YRS', 'MORTALITY RATE 20-24YRS']\n",
    "df[numeric_columns] = df[numeric_columns].apply(pd.to_numeric, errors='coerce')\n",
    "\n",
    "# Specify the row index for which you want to calculate the sum (e.g., row 1)\n",
    "row_index = 22\n",
    "\n",
    "# Calculate the sum of mortality rates for the specified row\n",
    "sum_of_mortality_rates_2012_5= df.loc[row_index, numeric_columns].sum()\n",
    "\n",
    "# Display the result\n",
    "print(f\"Sum of mortality rates for row {row_index}: {sum_of_mortality_rates_2012_5}\")\n",
    "RT2012_5=sum_of_mortality_rates_2012_5\n",
    "print(RT2012_5)"
   ]
  },
  {
   "cell_type": "code",
   "execution_count": 27,
   "id": "d8f12428-c03b-48a0-a770-e9d4a8b5f987",
   "metadata": {
    "tags": []
   },
   "outputs": [
    {
     "name": "stdout",
     "output_type": "stream",
     "text": [
      "Sum of mortality rates for row 23: 34.47220741824147\n",
      "34.47220741824147\n"
     ]
    }
   ],
   "source": [
    "# Convert columns to numeric (in case they are not already)\n",
    "numeric_columns = ['MORTALITY RATE 5-9YRS', 'MORTALITY RATE 10-14YRS', 'MORTALITY RATE 15-19YRS', 'MORTALITY RATE 20-24YRS']\n",
    "df[numeric_columns] = df[numeric_columns].apply(pd.to_numeric, errors='coerce')\n",
    "\n",
    "# Specify the row index for which you want to calculate the sum (e.g., row 1)\n",
    "row_index = 23\n",
    "\n",
    "# Calculate the sum of mortality rates for the specified row\n",
    "sum_of_mortality_rates_2013_5= df.loc[row_index, numeric_columns].sum()\n",
    "\n",
    "# Display the result\n",
    "print(f\"Sum of mortality rates for row {row_index}: {sum_of_mortality_rates_2013_5}\")\n",
    "RT2013_5=sum_of_mortality_rates_2013_5\n",
    "print(RT2013_5)"
   ]
  },
  {
   "cell_type": "code",
   "execution_count": 28,
   "id": "f89e48e3-dcb9-40da-b730-4ee4c340bc4f",
   "metadata": {
    "tags": []
   },
   "outputs": [
    {
     "name": "stdout",
     "output_type": "stream",
     "text": [
      "Sum of mortality rates for row 24: 33.70714219342558\n",
      "33.70714219342558\n"
     ]
    }
   ],
   "source": [
    "# Convert columns to numeric (in case they are not already)\n",
    "numeric_columns = ['MORTALITY RATE 5-9YRS', 'MORTALITY RATE 10-14YRS', 'MORTALITY RATE 15-19YRS', 'MORTALITY RATE 20-24YRS']\n",
    "df[numeric_columns] = df[numeric_columns].apply(pd.to_numeric, errors='coerce')\n",
    "\n",
    "# Specify the row index for which you want to calculate the sum (e.g., row 1)\n",
    "row_index = 24\n",
    "\n",
    "# Calculate the sum of mortality rates for the specified row\n",
    "sum_of_mortality_rates_2014_5= df.loc[row_index, numeric_columns].sum()\n",
    "\n",
    "# Display the result\n",
    "print(f\"Sum of mortality rates for row {row_index}: {sum_of_mortality_rates_2014_5}\")\n",
    "RT2014_5=sum_of_mortality_rates_2014_5\n",
    "print(RT2014_5)"
   ]
  },
  {
   "cell_type": "code",
   "execution_count": 29,
   "id": "4542ff7a-5042-40e2-abfb-54f2db741305",
   "metadata": {
    "tags": []
   },
   "outputs": [
    {
     "name": "stdout",
     "output_type": "stream",
     "text": [
      "Sum of mortality rates for row 25: 32.99765594275867\n",
      "32.99765594275867\n"
     ]
    }
   ],
   "source": [
    "# Convert columns to numeric (in case they are not already)\n",
    "numeric_columns = ['MORTALITY RATE 5-9YRS', 'MORTALITY RATE 10-14YRS', 'MORTALITY RATE 15-19YRS', 'MORTALITY RATE 20-24YRS']\n",
    "df[numeric_columns] = df[numeric_columns].apply(pd.to_numeric, errors='coerce')\n",
    "\n",
    "# Specify the row index for which you want to calculate the sum (e.g., row 1)\n",
    "row_index = 25\n",
    "\n",
    "# Calculate the sum of mortality rates for the specified row\n",
    "sum_of_mortality_rates_2015_5= df.loc[row_index, numeric_columns].sum()\n",
    "\n",
    "# Display the result\n",
    "print(f\"Sum of mortality rates for row {row_index}: {sum_of_mortality_rates_2015_5}\")\n",
    "RT2015_5=sum_of_mortality_rates_2015_5\n",
    "print(RT2015_5)"
   ]
  },
  {
   "cell_type": "code",
   "execution_count": 30,
   "id": "b6d5ffa0-4dd2-4e6a-ae96-6a63f50ad71e",
   "metadata": {
    "tags": []
   },
   "outputs": [
    {
     "name": "stdout",
     "output_type": "stream",
     "text": [
      "Sum of mortality rates for row 26: 32.35208939615615\n",
      "32.35208939615615\n"
     ]
    }
   ],
   "source": [
    "# Convert columns to numeric (in case they are not already)\n",
    "numeric_columns = ['MORTALITY RATE 5-9YRS', 'MORTALITY RATE 10-14YRS', 'MORTALITY RATE 15-19YRS', 'MORTALITY RATE 20-24YRS']\n",
    "df[numeric_columns] = df[numeric_columns].apply(pd.to_numeric, errors='coerce')\n",
    "\n",
    "# Specify the row index for which you want to calculate the sum (e.g., row 1)\n",
    "row_index = 26\n",
    "\n",
    "# Calculate the sum of mortality rates for the specified row\n",
    "sum_of_mortality_rates_2016_5= df.loc[row_index, numeric_columns].sum()\n",
    "\n",
    "# Display the result\n",
    "print(f\"Sum of mortality rates for row {row_index}: {sum_of_mortality_rates_2016_5}\")\n",
    "RT2016_5=sum_of_mortality_rates_2016_5\n",
    "print(RT2016_5)"
   ]
  },
  {
   "cell_type": "code",
   "execution_count": 31,
   "id": "e89f601d-bff8-4344-8974-3091963335c8",
   "metadata": {
    "tags": []
   },
   "outputs": [
    {
     "name": "stdout",
     "output_type": "stream",
     "text": [
      "Sum of mortality rates for row 27: 31.61187366158665\n",
      "31.61187366158665\n"
     ]
    }
   ],
   "source": [
    "# Convert columns to numeric (in case they are not already)\n",
    "numeric_columns = ['MORTALITY RATE 5-9YRS', 'MORTALITY RATE 10-14YRS', 'MORTALITY RATE 15-19YRS', 'MORTALITY RATE 20-24YRS']\n",
    "df[numeric_columns] = df[numeric_columns].apply(pd.to_numeric, errors='coerce')\n",
    "\n",
    "# Specify the row index for which you want to calculate the sum (e.g., row 1)\n",
    "row_index = 27\n",
    "\n",
    "# Calculate the sum of mortality rates for the specified row\n",
    "sum_of_mortality_rates_2017_5= df.loc[row_index, numeric_columns].sum()\n",
    "\n",
    "# Display the result\n",
    "print(f\"Sum of mortality rates for row {row_index}: {sum_of_mortality_rates_2017_5}\")\n",
    "RT2017_5=sum_of_mortality_rates_2017_5\n",
    "print(RT2017_5)"
   ]
  },
  {
   "cell_type": "code",
   "execution_count": 32,
   "id": "fc2c1199-54de-4dc6-a009-2a0ff08abc08",
   "metadata": {
    "tags": []
   },
   "outputs": [
    {
     "name": "stdout",
     "output_type": "stream",
     "text": [
      "Sum of mortality rates for row 28: 30.91998304447485\n",
      "30.91998304447485\n"
     ]
    }
   ],
   "source": [
    "# Convert columns to numeric (in case they are not already)\n",
    "numeric_columns = ['MORTALITY RATE 5-9YRS', 'MORTALITY RATE 10-14YRS', 'MORTALITY RATE 15-19YRS', 'MORTALITY RATE 20-24YRS']\n",
    "df[numeric_columns] = df[numeric_columns].apply(pd.to_numeric, errors='coerce')\n",
    "\n",
    "# Specify the row index for which you want to calculate the sum (e.g., row 1)\n",
    "row_index = 28\n",
    "\n",
    "# Calculate the sum of mortality rates for the specified row\n",
    "sum_of_mortality_rates_2018_5= df.loc[row_index, numeric_columns].sum()\n",
    "\n",
    "# Display the result\n",
    "print(f\"Sum of mortality rates for row {row_index}: {sum_of_mortality_rates_2018_5}\")\n",
    "RT2018_5=sum_of_mortality_rates_2018_5\n",
    "print(RT2018_5)"
   ]
  },
  {
   "cell_type": "code",
   "execution_count": 33,
   "id": "a0094616-323b-4620-b5af-807ed4038dfb",
   "metadata": {
    "tags": []
   },
   "outputs": [
    {
     "name": "stdout",
     "output_type": "stream",
     "text": [
      "Sum of mortality rates for row 29: 30.26018284753945\n",
      "30.26018284753945\n"
     ]
    }
   ],
   "source": [
    "# Convert columns to numeric (in case they are not already)\n",
    "numeric_columns = ['MORTALITY RATE 5-9YRS', 'MORTALITY RATE 10-14YRS', 'MORTALITY RATE 15-19YRS', 'MORTALITY RATE 20-24YRS']\n",
    "df[numeric_columns] = df[numeric_columns].apply(pd.to_numeric, errors='coerce')\n",
    "\n",
    "# Specify the row index for which you want to calculate the sum (e.g., row 1)\n",
    "row_index = 29\n",
    "\n",
    "# Calculate the sum of mortality rates for the specified row\n",
    "sum_of_mortality_rates_2019_5= df.loc[row_index, numeric_columns].sum()\n",
    "\n",
    "# Display the result\n",
    "print(f\"Sum of mortality rates for row {row_index}: {sum_of_mortality_rates_2019_5}\")\n",
    "RT2019_5=sum_of_mortality_rates_2019_5\n",
    "print(RT2019_5)"
   ]
  },
  {
   "cell_type": "code",
   "execution_count": 34,
   "id": "c813b6a9-784a-4421-988b-5b30df3205c4",
   "metadata": {
    "tags": []
   },
   "outputs": [
    {
     "name": "stdout",
     "output_type": "stream",
     "text": [
      "Sum of mortality rates for row 30: 29.584593157810403\n",
      "29.584593157810403\n"
     ]
    }
   ],
   "source": [
    "# Convert columns to numeric (in case they are not already)\n",
    "numeric_columns = ['MORTALITY RATE 5-9YRS', 'MORTALITY RATE 10-14YRS', 'MORTALITY RATE 15-19YRS', 'MORTALITY RATE 20-24YRS']\n",
    "df[numeric_columns] = df[numeric_columns].apply(pd.to_numeric, errors='coerce')\n",
    "\n",
    "# Specify the row index for which you want to calculate the sum (e.g., row 1)\n",
    "row_index = 30\n",
    "\n",
    "# Calculate the sum of mortality rates for the specified row\n",
    "sum_of_mortality_rates_2020_5= df.loc[row_index, numeric_columns].sum()\n",
    "\n",
    "# Display the result\n",
    "print(f\"Sum of mortality rates for row {row_index}: {sum_of_mortality_rates_2020_5}\")\n",
    "RT2020_5=sum_of_mortality_rates_2020_5\n",
    "print(RT2020_5)"
   ]
  },
  {
   "cell_type": "code",
   "execution_count": 35,
   "id": "01e780f0-cdf1-4890-8e11-e33fb3db79e8",
   "metadata": {
    "tags": []
   },
   "outputs": [
    {
     "name": "stdout",
     "output_type": "stream",
     "text": [
      "Sum of mortality rates for row 31: 28.9625407575869\n",
      "28.9625407575869\n"
     ]
    }
   ],
   "source": [
    "# Convert columns to numeric (in case they are not already)\n",
    "numeric_columns = ['MORTALITY RATE 5-9YRS', 'MORTALITY RATE 10-14YRS', 'MORTALITY RATE 15-19YRS', 'MORTALITY RATE 20-24YRS']\n",
    "df[numeric_columns] = df[numeric_columns].apply(pd.to_numeric, errors='coerce')\n",
    "\n",
    "# Specify the row index for which you want to calculate the sum (e.g., row 1)\n",
    "row_index = 31\n",
    "\n",
    "# Calculate the sum of mortality rates for the specified row\n",
    "sum_of_mortality_rates_2021_5= df.loc[row_index, numeric_columns].sum()\n",
    "\n",
    "# Display the result\n",
    "print(f\"Sum of mortality rates for row {row_index}: {sum_of_mortality_rates_2021_5}\")\n",
    "RT2021_5=sum_of_mortality_rates_2021_5\n",
    "print(RT2021_5)"
   ]
  },
  {
   "cell_type": "code",
   "execution_count": 36,
   "id": "c568808d-0099-4e4c-b611-5a8d20121bc0",
   "metadata": {
    "tags": []
   },
   "outputs": [
    {
     "name": "stdout",
     "output_type": "stream",
     "text": [
      "44.530713630807384\n",
      "45.9313709767028\n",
      "47.25437111319687\n",
      "48.47900860331975\n",
      "49.433462734244095\n",
      "50.22367326587619\n",
      "50.756208896048435\n",
      "50.93384735712898\n",
      "50.86558233772345\n",
      "50.43046106810155\n",
      "49.74518768163261\n",
      "48.80785466448579\n",
      "47.73606206443224\n",
      "46.46070447885945\n",
      "45.1005551017956\n",
      "43.68748999520376\n",
      "42.28162207444221\n",
      "40.98876273578068\n",
      "39.722557182976225\n",
      "38.51475811251094\n",
      "37.3982020052818\n",
      "36.37005044413791\n",
      "35.38277714888177\n",
      "34.47220741824147\n",
      "33.70714219342558\n",
      "32.99765594275867\n",
      "32.35208939615615\n",
      "31.61187366158665\n",
      "30.91998304447485\n",
      "30.26018284753945\n",
      "29.584593157810403\n",
      "28.9625407575869\n"
     ]
    }
   ],
   "source": [
    "print(RT1990_5)\n",
    "print(RT1991_5)\n",
    "print(RT1992_5)\n",
    "print(RT1993_5)\n",
    "print(RT1994_5)\n",
    "print(RT1995_5)\n",
    "print(RT1996_5)\n",
    "print(RT1997_5)\n",
    "print(RT1998_5)\n",
    "print(RT1999_5)\n",
    "print(RT2000_5)\n",
    "print(RT2001_5)\n",
    "print(RT2002_5)\n",
    "print(RT2003_5)\n",
    "print(RT2004_5)\n",
    "print(RT2005_5)\n",
    "print(RT2006_5)\n",
    "print(RT2007_5)\n",
    "print(RT2008_5)\n",
    "print(RT2009_5)\n",
    "print(RT2010_5)\n",
    "print(RT2011_5)\n",
    "print(RT2012_5)\n",
    "print(RT2013_5)\n",
    "print(RT2014_5)\n",
    "print(RT2015_5)\n",
    "print(RT2016_5)\n",
    "print(RT2017_5)\n",
    "print(RT2018_5)\n",
    "print(RT2019_5)\n",
    "print(RT2020_5)\n",
    "print(RT2021_5)"
   ]
  },
  {
   "cell_type": "code",
   "execution_count": 37,
   "id": "4a2b73a5-1468-4f28-8dfb-8e222415a432",
   "metadata": {
    "tags": []
   },
   "outputs": [
    {
     "name": "stdout",
     "output_type": "stream",
     "text": [
      "     YEARS  MORTALITY RATE 5-9YRS  MORTALITY RATE 10-14YRS  \\\n",
      "0   1990.5              16.288408                 4.995993   \n",
      "1   1991.5              16.551601                 5.152278   \n",
      "2   1992.5              16.780361                 5.300420   \n",
      "3   1993.5              16.965011                 5.445312   \n",
      "4   1994.5              17.038704                 5.551409   \n",
      "5   1995.5              17.057352                 5.640041   \n",
      "6   1996.5              16.976320                 5.700788   \n",
      "7   1997.5              16.799232                 5.726104   \n",
      "8   1998.5              16.541653                 5.728693   \n",
      "9   1999.5              16.190797                 5.696999   \n",
      "10  2000.5              15.757090                 5.640779   \n",
      "11  2001.5              15.268975                 5.555356   \n",
      "12  2002.5              14.745269                 5.451483   \n",
      "13  2003.5              14.171596                 5.321766   \n",
      "14  2004.5              13.592920                 5.183466   \n",
      "15  2005.5              13.033753                 5.049774   \n",
      "16  2006.5              12.534008                 4.932204   \n",
      "17  2007.5              12.113813                 4.840366   \n",
      "18  2008.5              11.750121                 4.757307   \n",
      "19  2009.5              11.446779                 4.697839   \n",
      "20  2010.5              11.217816                 4.663289   \n",
      "21  2011.5              11.048338                 4.652789   \n",
      "22  2012.5              10.911669                 4.657260   \n",
      "23  2013.5              10.787427                 4.658648   \n",
      "24  2014.5              10.657726                 4.653986   \n",
      "25  2015.5              10.483616                 4.629826   \n",
      "26  2016.5              10.295420                 4.586057   \n",
      "27  2017.5              10.044730                 4.511334   \n",
      "28  2018.5               9.809819                 4.439751   \n",
      "29  2019.5               9.562603                 4.365747   \n",
      "30  2020.5               9.313407                 4.269449   \n",
      "31  2021.5               9.080600                 4.182405   \n",
      "\n",
      "    MORTALITY RATE 15-19YRS  MORTALITY RATE 20-24YRS  Total Mortality Sums  \n",
      "0                  8.821682                14.424631             44.530714  \n",
      "1                  9.175367                15.052125             45.931371  \n",
      "2                  9.517457                15.656133             47.254371  \n",
      "3                  9.836429                16.232256             48.479009  \n",
      "4                 10.120292                16.723057             49.433463  \n",
      "5                 10.362692                17.163587             50.223673  \n",
      "6                 10.561756                17.517345             50.756209  \n",
      "7                 10.694267                17.714244             50.933847  \n",
      "8                 10.761475                17.833761             50.865582  \n",
      "9                 10.761380                17.781286             50.430461  \n",
      "10                10.704029                17.643290             49.745188  \n",
      "11                10.574868                17.408655             48.807855  \n",
      "12                10.426914                17.112397             47.736062  \n",
      "13                10.251979                16.715363             46.460704  \n",
      "14                10.048918                16.275252             45.100555  \n",
      "15                 9.829258                15.774706             43.687490  \n",
      "16                 9.597496                15.217914             42.281622  \n",
      "17                 9.358363                14.676221             40.988763  \n",
      "18                 9.095644                14.119485             39.722557  \n",
      "19                 8.833046                13.537094             38.514758  \n",
      "20                 8.549058                12.968039             37.398202  \n",
      "21                 8.256492                12.412431             36.370050  \n",
      "22                 7.958686                11.855163             35.382777  \n",
      "23                 7.663814                11.362318             34.472207  \n",
      "24                 7.406321                10.989109             33.707142  \n",
      "25                 7.181987                10.702227             32.997656  \n",
      "26                 6.974279                10.496334             32.352089  \n",
      "27                 6.751159                10.304651             31.611874  \n",
      "28                 6.537228                10.133185             30.919983  \n",
      "29                 6.345459                 9.986374             30.260183  \n",
      "30                 6.161331                 9.840406             29.584593  \n",
      "31                 5.967244                 9.732291             28.962541  \n"
     ]
    }
   ],
   "source": [
    "# Assuming df is your DataFrame containing the data\n",
    "\n",
    "# Define a list of the variables\n",
    "variables = [\n",
    "    RT1990_5, RT1991_5, RT1992_5, RT1993_5, RT1994_5, RT1995_5, RT1996_5, RT1997_5, RT1998_5, RT1999_5,\n",
    "    RT2000_5, RT2001_5, RT2002_5, RT2003_5, RT2004_5, RT2005_5, RT2006_5, RT2007_5, RT2008_5, RT2009_5,\n",
    "    RT2010_5, RT2011_5, RT2012_5, RT2013_5, RT2014_5, RT2015_5, RT2016_5, RT2017_5, RT2018_5, RT2019_5,\n",
    "    RT2020_5, RT2021_5\n",
    "]\n",
    "\n",
    "# Create a new column in the DataFrame with the combined values\n",
    "df['Total Mortality Sums'] = variables\n",
    "\n",
    "# Display the updated DataFrame\n",
    "print(df)\n"
   ]
  },
  {
   "cell_type": "code",
   "execution_count": 38,
   "id": "71455027-ec91-4162-a091-e1d7aab1c8e0",
   "metadata": {
    "tags": []
   },
   "outputs": [
    {
     "data": {
      "image/png": "[encoded data removed]",
      "text/plain": [
       "<Figure size 1200x600 with 1 Axes>"
      ]
     },
     "metadata": {},
     "output_type": "display_data"
    }
   ],
   "source": [
    "# Convert 'YEARS' column to numeric if it's not already\n",
    "df['YEARS'] = pd.to_numeric(df['YEARS'], errors='coerce')\n",
    "\n",
    "# Drop rows with missing or NaN values in the 'YEARS' column\n",
    "df = df.dropna(subset=['YEARS'])\n",
    "\n",
    "# Plot the data\n",
    "plt.figure(figsize=(12, 6))\n",
    "sns.lineplot(x='YEARS', y='Total Mortality Sums', data=df)\n",
    "plt.title('Mortality Rate Trends for Ages 5-24 in Kenya')\n",
    "plt.xlabel('YEARS')\n",
    "plt.ylabel('Total Mortality Sums')\n",
    "plt.show()\n"
   ]
  },
  {
   "cell_type": "code",
   "execution_count": 39,
   "id": "ac0cacb3-210f-494f-bb20-17133acc6740",
   "metadata": {},
   "outputs": [
    {
     "name": "stdout",
     "output_type": "stream",
     "text": [
      "     YEARS  \\\n",
      "0   2000.5   \n",
      "1   2001.5   \n",
      "2   2002.5   \n",
      "3   2003.5   \n",
      "4   2004.5   \n",
      "5   2005.5   \n",
      "6   2006.5   \n",
      "7   2007.5   \n",
      "8   2008.5   \n",
      "9   2009.5   \n",
      "10  2010.5   \n",
      "11  2011.5   \n",
      "12  2012.5   \n",
      "13  2013.5   \n",
      "14  2014.5   \n",
      "15  2015.5   \n",
      "16  2016.5   \n",
      "17  2017.5   \n",
      "18  2018.5   \n",
      "19  2019.5   \n",
      "\n",
      "    Communicable and maternal and perinatal and nutritional conditions Age 5-9  \\\n",
      "0                                              165.71                            \n",
      "1                                              160.89                            \n",
      "2                                              154.83                            \n",
      "3                                              148.77                            \n",
      "4                                              141.85                            \n",
      "5                                              133.65                            \n",
      "6                                              126.81                            \n",
      "7                                              118.61                            \n",
      "8                                              112.57                            \n",
      "9                                              106.73                            \n",
      "10                                             101.43                            \n",
      "11                                              97.88                            \n",
      "12                                              96.63                            \n",
      "13                                              93.58                            \n",
      "14                                              90.70                            \n",
      "15                                              86.29                            \n",
      "16                                              82.49                            \n",
      "17                                              78.19                            \n",
      "18                                              72.97                            \n",
      "19                                              69.68                            \n",
      "\n",
      "    Communicable and maternal and perinatal and nutritional conditions Age 10-14  \\\n",
      "0                                               81.67                              \n",
      "1                                               83.64                              \n",
      "2                                               87.15                              \n",
      "3                                               90.46                              \n",
      "4                                               91.62                              \n",
      "5                                               91.45                              \n",
      "6                                               88.91                              \n",
      "7                                               86.77                              \n",
      "8                                               82.91                              \n",
      "9                                               83.21                              \n",
      "10                                              80.18                              \n",
      "11                                              77.99                              \n",
      "12                                              74.85                              \n",
      "13                                              70.68                              \n",
      "14                                              69.66                              \n",
      "15                                              67.86                              \n",
      "16                                              66.37                              \n",
      "17                                              64.10                              \n",
      "18                                              60.03                              \n",
      "19                                              57.22                              \n",
      "\n",
      "    Communicable and maternal and perinatal and nutrition conditions Age 15-19  \\\n",
      "0                                               86.22                            \n",
      "1                                               87.45                            \n",
      "2                                               93.38                            \n",
      "3                                              103.80                            \n",
      "4                                              113.49                            \n",
      "5                                              121.38                            \n",
      "6                                              128.45                            \n",
      "7                                              128.33                            \n",
      "8                                              129.01                            \n",
      "9                                              128.94                            \n",
      "10                                             126.96                            \n",
      "11                                             121.83                            \n",
      "12                                             117.33                            \n",
      "13                                             113.48                            \n",
      "14                                             108.92                            \n",
      "15                                             100.71                            \n",
      "16                                              92.93                            \n",
      "17                                              86.55                            \n",
      "18                                              78.25                            \n",
      "19                                              75.04                            \n",
      "\n",
      "    Communicable and maternal and perinatal and nutritional conditions Age 20-24  \\\n",
      "0                                              238.87                              \n",
      "1                                              226.10                              \n",
      "2                                              215.64                              \n",
      "3                                              209.15                              \n",
      "4                                              199.68                              \n",
      "5                                              184.51                              \n",
      "6                                              174.33                              \n",
      "7                                              166.05                              \n",
      "8                                              158.69                              \n",
      "9                                              151.79                              \n",
      "10                                             142.41                              \n",
      "11                                             137.14                              \n",
      "12                                             133.45                              \n",
      "13                                             130.49                              \n",
      "14                                             128.57                              \n",
      "15                                             124.70                              \n",
      "16                                             118.76                              \n",
      "17                                             111.78                              \n",
      "18                                             104.14                              \n",
      "19                                              99.48                              \n",
      "\n",
      "   Non-Communicable diseases Age 5-9  Non-Communicable diseases Age 10-14  \\\n",
      "0                                                                    1.33   \n",
      "1                                                                     NaN   \n",
      "2                                                                     NaN   \n",
      "3                               1.15                                  NaN   \n",
      "4                               0.89                                 0.57   \n",
      "5                               0.86                                 0.53   \n",
      "6                                                                     NaN   \n",
      "7                               1.17                                  NaN   \n",
      "8                                                                     NaN   \n",
      "9                               1.29                                  NaN   \n",
      "10                              1.41                                 0.58   \n",
      "11                              1.45                                 0.64   \n",
      "12                              1.26                                  NaN   \n",
      "13                              1.02                                  NaN   \n",
      "14                              1.19                                 0.81   \n",
      "15                              1.29                                 0.82   \n",
      "16                              1.41                                 0.90   \n",
      "17                              1.52                                 1.00   \n",
      "18                              1.72                                 1.21   \n",
      "19                              1.74                                 1.33   \n",
      "\n",
      "    Non-Communicable diseases Age 15-19  Non-Communicable diseases Age 20-24  \\\n",
      "0                                   NaN                                  NaN   \n",
      "1                                   NaN                                  NaN   \n",
      "2                                   NaN                                  NaN   \n",
      "3                                   NaN                                  NaN   \n",
      "4                                   NaN                                  NaN   \n",
      "5                                   NaN                                  NaN   \n",
      "6                                   NaN                                  NaN   \n",
      "7                                   NaN                                  NaN   \n",
      "8                                   NaN                                  NaN   \n",
      "9                                   NaN                                  NaN   \n",
      "10                                  NaN                                  NaN   \n",
      "11                                 2.51                                  NaN   \n",
      "12                                 2.46                                  NaN   \n",
      "13                                 2.31                                  NaN   \n",
      "14                                  NaN                                  NaN   \n",
      "15                                  NaN                                  NaN   \n",
      "16                                  NaN                                  NaN   \n",
      "17                                  NaN                                  NaN   \n",
      "18                                  NaN                                  NaN   \n",
      "19                                  NaN                                  NaN   \n",
      "\n",
      "    Injuries Age 5-9  Injuries Age 10-14  Injuries Age 15-19  \\\n",
      "0              13.94               12.57               22.07   \n",
      "1              13.69               12.23               20.61   \n",
      "2              13.05               11.48               20.34   \n",
      "3              13.57                9.74               19.76   \n",
      "4              13.55                6.45               20.35   \n",
      "5              12.31                6.10               22.58   \n",
      "6               8.06                5.89               22.76   \n",
      "7               6.90                6.01               25.78   \n",
      "8               9.47                7.77               30.15   \n",
      "9               7.21                6.23               23.72   \n",
      "10              7.59                6.58               23.57   \n",
      "11              7.96                7.15               25.02   \n",
      "12              9.73                7.65               25.22   \n",
      "13             14.32                7.87               24.93   \n",
      "14             13.66               11.86               23.60   \n",
      "15             13.87               12.50               23.33   \n",
      "16             13.71               12.68               23.00   \n",
      "17             13.81               12.70               23.42   \n",
      "18             13.38               12.58               27.34   \n",
      "19             12.99               12.63               27.34   \n",
      "\n",
      "    Injuries Age 20-24  \n",
      "0                37.23  \n",
      "1                35.09  \n",
      "2                34.62  \n",
      "3                34.24  \n",
      "4                34.50  \n",
      "5                35.70  \n",
      "6                35.26  \n",
      "7                34.43  \n",
      "8                41.94  \n",
      "9                34.87  \n",
      "10               33.86  \n",
      "11               33.96  \n",
      "12               34.40  \n",
      "13               33.76  \n",
      "14               32.95  \n",
      "15               32.51  \n",
      "16               31.68  \n",
      "17               32.52  \n",
      "18               34.11  \n",
      "19               34.83  \n"
     ]
    }
   ],
   "source": [
    "# Replace 'your_excel_file.xlsx' with the actual path to your Excel file\n",
    "excel_file_path2 = r'C:\\Users\\Sir\\python lessons\\causes5_24YRS.xlsx'\n",
    "\n",
    "# Read the Excel file into a pandas DataFrame\n",
    "data = pd.read_excel('causes5_24YRS.xlsx')\n",
    "\n",
    "# Display the DataFrame to verify that the data has been loaded successfully\n",
    "print(data)\n"
   ]
  },
  {
   "cell_type": "code",
   "execution_count": 40,
   "id": "c0f2f075-139d-437b-bd42-cee4ad2aaabb",
   "metadata": {
    "tags": []
   },
   "outputs": [],
   "source": [
    "import pandas as pd\n",
    "import matplotlib.pyplot as plt\n",
    "import seaborn as sns"
   ]
  },
  {
   "cell_type": "code",
   "execution_count": 41,
   "id": "850284ec-4450-4c6f-a5a1-ded6a8b19a68",
   "metadata": {
    "tags": []
   },
   "outputs": [],
   "source": [
    "# Load mortality rate dataset\n",
    "mortality_data = pd.read_excel('MORTALITYRATESTRANSPOSED.xlsx')\n",
    "\n",
    "# Load causes of death dataset\n",
    "causes_data = pd.read_excel('causes5_24YRS.xlsx')"
   ]
  },
  {
   "cell_type": "code",
   "execution_count": 42,
   "id": "f712ba7e-7583-4d9d-bd3f-4bf03c0bb448",
   "metadata": {
    "tags": []
   },
   "outputs": [],
   "source": [
    "merged_data = pd.merge(mortality_data, causes_data, on='YEARS')"
   ]
  },
  {
   "cell_type": "code",
   "execution_count": 43,
   "id": "b7d685fb-f9c5-45e6-906e-d76738ce6226",
   "metadata": {
    "tags": []
   },
   "outputs": [
    {
     "data": {
      "image/png": "[encoded data removed]",
      "text/plain": [
       "<Figure size 1000x600 with 1 Axes>"
      ]
     },
     "metadata": {},
     "output_type": "display_data"
    }
   ],
   "source": [
    "plt.figure(figsize=(10, 6))\n",
    "sns.lineplot(x='YEARS', y='Total Mortality Sums', data=df, label='Total Mortality Rate')\n",
    "plt.title('Overall Mortality Rate Trend')\n",
    "plt.xlabel('Year')\n",
    "plt.ylabel('Total Mortality Sums')\n",
    "plt.legend()\n",
    "plt.show()"
   ]
  },
  {
   "cell_type": "code",
   "execution_count": 44,
   "id": "c71288ec-d99e-434f-888d-dd31d524dff9",
   "metadata": {
    "tags": []
   },
   "outputs": [
    {
     "name": "stdout",
     "output_type": "stream",
     "text": [
      "     YEARS  MORTALITY RATE 5-9YRS  MORTALITY RATE 10-14YRS  \\\n",
      "0   2000.5              15.757090                 5.640779   \n",
      "1   2001.5              15.268975                 5.555356   \n",
      "2   2002.5              14.745269                 5.451483   \n",
      "3   2003.5              14.171596                 5.321766   \n",
      "4   2004.5              13.592920                 5.183466   \n",
      "5   2005.5              13.033753                 5.049774   \n",
      "6   2006.5              12.534008                 4.932204   \n",
      "7   2007.5              12.113813                 4.840366   \n",
      "8   2008.5              11.750121                 4.757307   \n",
      "9   2009.5              11.446779                 4.697839   \n",
      "10  2010.5              11.217816                 4.663289   \n",
      "11  2011.5              11.048338                 4.652789   \n",
      "12  2012.5              10.911669                 4.657260   \n",
      "13  2013.5              10.787427                 4.658648   \n",
      "14  2014.5              10.657726                 4.653986   \n",
      "15  2015.5              10.483616                 4.629826   \n",
      "16  2016.5              10.295420                 4.586057   \n",
      "17  2017.5              10.044730                 4.511334   \n",
      "18  2018.5               9.809819                 4.439751   \n",
      "19  2019.5               9.562603                 4.365747   \n",
      "\n",
      "    MORTALITY RATE 15-19YRS  MORTALITY RATE 20-24YRS  \\\n",
      "0                 10.704029                17.643290   \n",
      "1                 10.574868                17.408655   \n",
      "2                 10.426914                17.112397   \n",
      "3                 10.251979                16.715363   \n",
      "4                 10.048918                16.275252   \n",
      "5                  9.829258                15.774706   \n",
      "6                  9.597496                15.217914   \n",
      "7                  9.358363                14.676221   \n",
      "8                  9.095644                14.119485   \n",
      "9                  8.833046                13.537094   \n",
      "10                 8.549058                12.968039   \n",
      "11                 8.256492                12.412431   \n",
      "12                 7.958686                11.855163   \n",
      "13                 7.663814                11.362318   \n",
      "14                 7.406321                10.989109   \n",
      "15                 7.181987                10.702227   \n",
      "16                 6.974279                10.496334   \n",
      "17                 6.751159                10.304651   \n",
      "18                 6.537228                10.133185   \n",
      "19                 6.345459                 9.986374   \n",
      "\n",
      "    Communicable and maternal and perinatal and nutritional conditions Age 5-9  \\\n",
      "0                                              165.71                            \n",
      "1                                              160.89                            \n",
      "2                                              154.83                            \n",
      "3                                              148.77                            \n",
      "4                                              141.85                            \n",
      "5                                              133.65                            \n",
      "6                                              126.81                            \n",
      "7                                              118.61                            \n",
      "8                                              112.57                            \n",
      "9                                              106.73                            \n",
      "10                                             101.43                            \n",
      "11                                              97.88                            \n",
      "12                                              96.63                            \n",
      "13                                              93.58                            \n",
      "14                                              90.70                            \n",
      "15                                              86.29                            \n",
      "16                                              82.49                            \n",
      "17                                              78.19                            \n",
      "18                                              72.97                            \n",
      "19                                              69.68                            \n",
      "\n",
      "    Communicable and maternal and perinatal and nutritional conditions Age 10-14  \\\n",
      "0                                               81.67                              \n",
      "1                                               83.64                              \n",
      "2                                               87.15                              \n",
      "3                                               90.46                              \n",
      "4                                               91.62                              \n",
      "5                                               91.45                              \n",
      "6                                               88.91                              \n",
      "7                                               86.77                              \n",
      "8                                               82.91                              \n",
      "9                                               83.21                              \n",
      "10                                              80.18                              \n",
      "11                                              77.99                              \n",
      "12                                              74.85                              \n",
      "13                                              70.68                              \n",
      "14                                              69.66                              \n",
      "15                                              67.86                              \n",
      "16                                              66.37                              \n",
      "17                                              64.10                              \n",
      "18                                              60.03                              \n",
      "19                                              57.22                              \n",
      "\n",
      "    Communicable and maternal and perinatal and nutrition conditions Age 15-19  \\\n",
      "0                                               86.22                            \n",
      "1                                               87.45                            \n",
      "2                                               93.38                            \n",
      "3                                              103.80                            \n",
      "4                                              113.49                            \n",
      "5                                              121.38                            \n",
      "6                                              128.45                            \n",
      "7                                              128.33                            \n",
      "8                                              129.01                            \n",
      "9                                              128.94                            \n",
      "10                                             126.96                            \n",
      "11                                             121.83                            \n",
      "12                                             117.33                            \n",
      "13                                             113.48                            \n",
      "14                                             108.92                            \n",
      "15                                             100.71                            \n",
      "16                                              92.93                            \n",
      "17                                              86.55                            \n",
      "18                                              78.25                            \n",
      "19                                              75.04                            \n",
      "\n",
      "    Communicable and maternal and perinatal and nutritional conditions Age 20-24  \\\n",
      "0                                              238.87                              \n",
      "1                                              226.10                              \n",
      "2                                              215.64                              \n",
      "3                                              209.15                              \n",
      "4                                              199.68                              \n",
      "5                                              184.51                              \n",
      "6                                              174.33                              \n",
      "7                                              166.05                              \n",
      "8                                              158.69                              \n",
      "9                                              151.79                              \n",
      "10                                             142.41                              \n",
      "11                                             137.14                              \n",
      "12                                             133.45                              \n",
      "13                                             130.49                              \n",
      "14                                             128.57                              \n",
      "15                                             124.70                              \n",
      "16                                             118.76                              \n",
      "17                                             111.78                              \n",
      "18                                             104.14                              \n",
      "19                                              99.48                              \n",
      "\n",
      "   Non-Communicable diseases Age 5-9  Non-Communicable diseases Age 10-14  \\\n",
      "0                                                                    1.33   \n",
      "1                                                                     NaN   \n",
      "2                                                                     NaN   \n",
      "3                               1.15                                  NaN   \n",
      "4                               0.89                                 0.57   \n",
      "5                               0.86                                 0.53   \n",
      "6                                                                     NaN   \n",
      "7                               1.17                                  NaN   \n",
      "8                                                                     NaN   \n",
      "9                               1.29                                  NaN   \n",
      "10                              1.41                                 0.58   \n",
      "11                              1.45                                 0.64   \n",
      "12                              1.26                                  NaN   \n",
      "13                              1.02                                  NaN   \n",
      "14                              1.19                                 0.81   \n",
      "15                              1.29                                 0.82   \n",
      "16                              1.41                                 0.90   \n",
      "17                              1.52                                 1.00   \n",
      "18                              1.72                                 1.21   \n",
      "19                              1.74                                 1.33   \n",
      "\n",
      "    Non-Communicable diseases Age 15-19  Non-Communicable diseases Age 20-24  \\\n",
      "0                                   NaN                                  NaN   \n",
      "1                                   NaN                                  NaN   \n",
      "2                                   NaN                                  NaN   \n",
      "3                                   NaN                                  NaN   \n",
      "4                                   NaN                                  NaN   \n",
      "5                                   NaN                                  NaN   \n",
      "6                                   NaN                                  NaN   \n",
      "7                                   NaN                                  NaN   \n",
      "8                                   NaN                                  NaN   \n",
      "9                                   NaN                                  NaN   \n",
      "10                                  NaN                                  NaN   \n",
      "11                                 2.51                                  NaN   \n",
      "12                                 2.46                                  NaN   \n",
      "13                                 2.31                                  NaN   \n",
      "14                                  NaN                                  NaN   \n",
      "15                                  NaN                                  NaN   \n",
      "16                                  NaN                                  NaN   \n",
      "17                                  NaN                                  NaN   \n",
      "18                                  NaN                                  NaN   \n",
      "19                                  NaN                                  NaN   \n",
      "\n",
      "    Injuries Age 5-9  Injuries Age 10-14  Injuries Age 15-19  \\\n",
      "0              13.94               12.57               22.07   \n",
      "1              13.69               12.23               20.61   \n",
      "2              13.05               11.48               20.34   \n",
      "3              13.57                9.74               19.76   \n",
      "4              13.55                6.45               20.35   \n",
      "5              12.31                6.10               22.58   \n",
      "6               8.06                5.89               22.76   \n",
      "7               6.90                6.01               25.78   \n",
      "8               9.47                7.77               30.15   \n",
      "9               7.21                6.23               23.72   \n",
      "10              7.59                6.58               23.57   \n",
      "11              7.96                7.15               25.02   \n",
      "12              9.73                7.65               25.22   \n",
      "13             14.32                7.87               24.93   \n",
      "14             13.66               11.86               23.60   \n",
      "15             13.87               12.50               23.33   \n",
      "16             13.71               12.68               23.00   \n",
      "17             13.81               12.70               23.42   \n",
      "18             13.38               12.58               27.34   \n",
      "19             12.99               12.63               27.34   \n",
      "\n",
      "    Injuries Age 20-24  \n",
      "0                37.23  \n",
      "1                35.09  \n",
      "2                34.62  \n",
      "3                34.24  \n",
      "4                34.50  \n",
      "5                35.70  \n",
      "6                35.26  \n",
      "7                34.43  \n",
      "8                41.94  \n",
      "9                34.87  \n",
      "10               33.86  \n",
      "11               33.96  \n",
      "12               34.40  \n",
      "13               33.76  \n",
      "14               32.95  \n",
      "15               32.51  \n",
      "16               31.68  \n",
      "17               32.52  \n",
      "18               34.11  \n",
      "19               34.83  \n"
     ]
    }
   ],
   "source": [
    "print(merged_data)"
   ]
  },
  {
   "cell_type": "code",
   "execution_count": 45,
   "id": "796fbdc3-b8ff-4279-8c39-1691eca04e46",
   "metadata": {
    "tags": []
   },
   "outputs": [
    {
     "name": "stdout",
     "output_type": "stream",
     "text": [
      "     YEARS  MORTALITY RATE 5-9YRS  MORTALITY RATE 10-14YRS  \\\n",
      "0   2000.5              15.757090                 5.640779   \n",
      "1   2001.5              15.268975                 5.555356   \n",
      "2   2002.5              14.745269                 5.451483   \n",
      "3   2003.5              14.171596                 5.321766   \n",
      "4   2004.5              13.592920                 5.183466   \n",
      "5   2005.5              13.033753                 5.049774   \n",
      "6   2006.5              12.534008                 4.932204   \n",
      "7   2007.5              12.113813                 4.840366   \n",
      "8   2008.5              11.750121                 4.757307   \n",
      "9   2009.5              11.446779                 4.697839   \n",
      "10  2010.5              11.217816                 4.663289   \n",
      "11  2011.5              11.048338                 4.652789   \n",
      "12  2012.5              10.911669                 4.657260   \n",
      "13  2013.5              10.787427                 4.658648   \n",
      "14  2014.5              10.657726                 4.653986   \n",
      "15  2015.5              10.483616                 4.629826   \n",
      "16  2016.5              10.295420                 4.586057   \n",
      "17  2017.5              10.044730                 4.511334   \n",
      "18  2018.5               9.809819                 4.439751   \n",
      "19  2019.5               9.562603                 4.365747   \n",
      "\n",
      "    MORTALITY RATE 15-19YRS  MORTALITY RATE 20-24YRS  \\\n",
      "0                 10.704029                17.643290   \n",
      "1                 10.574868                17.408655   \n",
      "2                 10.426914                17.112397   \n",
      "3                 10.251979                16.715363   \n",
      "4                 10.048918                16.275252   \n",
      "5                  9.829258                15.774706   \n",
      "6                  9.597496                15.217914   \n",
      "7                  9.358363                14.676221   \n",
      "8                  9.095644                14.119485   \n",
      "9                  8.833046                13.537094   \n",
      "10                 8.549058                12.968039   \n",
      "11                 8.256492                12.412431   \n",
      "12                 7.958686                11.855163   \n",
      "13                 7.663814                11.362318   \n",
      "14                 7.406321                10.989109   \n",
      "15                 7.181987                10.702227   \n",
      "16                 6.974279                10.496334   \n",
      "17                 6.751159                10.304651   \n",
      "18                 6.537228                10.133185   \n",
      "19                 6.345459                 9.986374   \n",
      "\n",
      "    Communicable and maternal and perinatal and nutritional conditions Age 5-9  \\\n",
      "0                                              165.71                            \n",
      "1                                              160.89                            \n",
      "2                                              154.83                            \n",
      "3                                              148.77                            \n",
      "4                                              141.85                            \n",
      "5                                              133.65                            \n",
      "6                                              126.81                            \n",
      "7                                              118.61                            \n",
      "8                                              112.57                            \n",
      "9                                              106.73                            \n",
      "10                                             101.43                            \n",
      "11                                              97.88                            \n",
      "12                                              96.63                            \n",
      "13                                              93.58                            \n",
      "14                                              90.70                            \n",
      "15                                              86.29                            \n",
      "16                                              82.49                            \n",
      "17                                              78.19                            \n",
      "18                                              72.97                            \n",
      "19                                              69.68                            \n",
      "\n",
      "    Communicable and maternal and perinatal and nutritional conditions Age 10-14  \\\n",
      "0                                               81.67                              \n",
      "1                                               83.64                              \n",
      "2                                               87.15                              \n",
      "3                                               90.46                              \n",
      "4                                               91.62                              \n",
      "5                                               91.45                              \n",
      "6                                               88.91                              \n",
      "7                                               86.77                              \n",
      "8                                               82.91                              \n",
      "9                                               83.21                              \n",
      "10                                              80.18                              \n",
      "11                                              77.99                              \n",
      "12                                              74.85                              \n",
      "13                                              70.68                              \n",
      "14                                              69.66                              \n",
      "15                                              67.86                              \n",
      "16                                              66.37                              \n",
      "17                                              64.10                              \n",
      "18                                              60.03                              \n",
      "19                                              57.22                              \n",
      "\n",
      "    Communicable and maternal and perinatal and nutrition conditions Age 15-19  \\\n",
      "0                                               86.22                            \n",
      "1                                               87.45                            \n",
      "2                                               93.38                            \n",
      "3                                              103.80                            \n",
      "4                                              113.49                            \n",
      "5                                              121.38                            \n",
      "6                                              128.45                            \n",
      "7                                              128.33                            \n",
      "8                                              129.01                            \n",
      "9                                              128.94                            \n",
      "10                                             126.96                            \n",
      "11                                             121.83                            \n",
      "12                                             117.33                            \n",
      "13                                             113.48                            \n",
      "14                                             108.92                            \n",
      "15                                             100.71                            \n",
      "16                                              92.93                            \n",
      "17                                              86.55                            \n",
      "18                                              78.25                            \n",
      "19                                              75.04                            \n",
      "\n",
      "    Communicable and maternal and perinatal and nutritional conditions Age 20-24  \\\n",
      "0                                              238.87                              \n",
      "1                                              226.10                              \n",
      "2                                              215.64                              \n",
      "3                                              209.15                              \n",
      "4                                              199.68                              \n",
      "5                                              184.51                              \n",
      "6                                              174.33                              \n",
      "7                                              166.05                              \n",
      "8                                              158.69                              \n",
      "9                                              151.79                              \n",
      "10                                             142.41                              \n",
      "11                                             137.14                              \n",
      "12                                             133.45                              \n",
      "13                                             130.49                              \n",
      "14                                             128.57                              \n",
      "15                                             124.70                              \n",
      "16                                             118.76                              \n",
      "17                                             111.78                              \n",
      "18                                             104.14                              \n",
      "19                                              99.48                              \n",
      "\n",
      "   Non-Communicable diseases Age 5-9  Non-Communicable diseases Age 10-14  \\\n",
      "0                                                                    1.33   \n",
      "1                                                                     NaN   \n",
      "2                                                                     NaN   \n",
      "3                               1.15                                  NaN   \n",
      "4                               0.89                                 0.57   \n",
      "5                               0.86                                 0.53   \n",
      "6                                                                     NaN   \n",
      "7                               1.17                                  NaN   \n",
      "8                                                                     NaN   \n",
      "9                               1.29                                  NaN   \n",
      "10                              1.41                                 0.58   \n",
      "11                              1.45                                 0.64   \n",
      "12                              1.26                                  NaN   \n",
      "13                              1.02                                  NaN   \n",
      "14                              1.19                                 0.81   \n",
      "15                              1.29                                 0.82   \n",
      "16                              1.41                                 0.90   \n",
      "17                              1.52                                 1.00   \n",
      "18                              1.72                                 1.21   \n",
      "19                              1.74                                 1.33   \n",
      "\n",
      "    Non-Communicable diseases Age 15-19  Non-Communicable diseases Age 20-24  \\\n",
      "0                                   NaN                                  NaN   \n",
      "1                                   NaN                                  NaN   \n",
      "2                                   NaN                                  NaN   \n",
      "3                                   NaN                                  NaN   \n",
      "4                                   NaN                                  NaN   \n",
      "5                                   NaN                                  NaN   \n",
      "6                                   NaN                                  NaN   \n",
      "7                                   NaN                                  NaN   \n",
      "8                                   NaN                                  NaN   \n",
      "9                                   NaN                                  NaN   \n",
      "10                                  NaN                                  NaN   \n",
      "11                                 2.51                                  NaN   \n",
      "12                                 2.46                                  NaN   \n",
      "13                                 2.31                                  NaN   \n",
      "14                                  NaN                                  NaN   \n",
      "15                                  NaN                                  NaN   \n",
      "16                                  NaN                                  NaN   \n",
      "17                                  NaN                                  NaN   \n",
      "18                                  NaN                                  NaN   \n",
      "19                                  NaN                                  NaN   \n",
      "\n",
      "    Injuries Age 5-9  Injuries Age 10-14  Injuries Age 15-19  \\\n",
      "0              13.94               12.57               22.07   \n",
      "1              13.69               12.23               20.61   \n",
      "2              13.05               11.48               20.34   \n",
      "3              13.57                9.74               19.76   \n",
      "4              13.55                6.45               20.35   \n",
      "5              12.31                6.10               22.58   \n",
      "6               8.06                5.89               22.76   \n",
      "7               6.90                6.01               25.78   \n",
      "8               9.47                7.77               30.15   \n",
      "9               7.21                6.23               23.72   \n",
      "10              7.59                6.58               23.57   \n",
      "11              7.96                7.15               25.02   \n",
      "12              9.73                7.65               25.22   \n",
      "13             14.32                7.87               24.93   \n",
      "14             13.66               11.86               23.60   \n",
      "15             13.87               12.50               23.33   \n",
      "16             13.71               12.68               23.00   \n",
      "17             13.81               12.70               23.42   \n",
      "18             13.38               12.58               27.34   \n",
      "19             12.99               12.63               27.34   \n",
      "\n",
      "    Injuries Age 20-24  Total Mortality Sums  \n",
      "0                37.23             49.745188  \n",
      "1                35.09             48.807855  \n",
      "2                34.62             47.736062  \n",
      "3                34.24             46.460704  \n",
      "4                34.50             45.100555  \n",
      "5                35.70             43.687490  \n",
      "6                35.26             42.281622  \n",
      "7                34.43             40.988763  \n",
      "8                41.94             39.722557  \n",
      "9                34.87             38.514758  \n",
      "10               33.86             37.398202  \n",
      "11               33.96             36.370050  \n",
      "12               34.40             35.382777  \n",
      "13               33.76             34.472207  \n",
      "14               32.95             33.707142  \n",
      "15               32.51             32.997656  \n",
      "16               31.68             32.352089  \n",
      "17               32.52             31.611874  \n",
      "18               34.11             30.919983  \n",
      "19               34.83             30.260183  \n"
     ]
    }
   ],
   "source": [
    "merged_data = pd.merge(merged_data, df[['YEARS', 'Total Mortality Sums']], on='YEARS')\n",
    "print(merged_data)"
   ]
  },
  {
   "cell_type": "code",
   "execution_count": 46,
   "id": "f630d81e-7634-4590-a020-cc4ead22ebca",
   "metadata": {
    "tags": []
   },
   "outputs": [
    {
     "name": "stdout",
     "output_type": "stream",
     "text": [
      "YEARS\n",
      "MORTALITY RATE 5-9YRS\n",
      "MORTALITY RATE 10-14YRS\n",
      "MORTALITY RATE 15-19YRS\n",
      "MORTALITY RATE 20-24YRS\n",
      "Communicable and maternal and perinatal and nutritional conditions Age 5-9\n",
      "Communicable and maternal and perinatal and nutritional conditions Age 10-14\n",
      "Communicable and maternal and perinatal and nutrition conditions Age 15-19\n",
      "Communicable and maternal and perinatal and nutritional conditions Age 20-24\n",
      "Non-Communicable diseases Age 5-9\n",
      "Non-Communicable diseases Age 10-14\n",
      "Non-Communicable diseases Age 15-19\n",
      "Non-Communicable diseases Age 20-24\n",
      "Injuries Age 5-9\n",
      "Injuries Age 10-14\n",
      "Injuries Age 15-19\n",
      "Injuries Age 20-24\n",
      "Total Mortality Sums\n"
     ]
    }
   ],
   "source": [
    "# Iterate through and print each column name\n",
    "for column_name in merged_data.columns:\n",
    "    print(column_name)\n"
   ]
  },
  {
   "cell_type": "code",
   "execution_count": 47,
   "id": "fcd708a8-d9c1-488f-b248-3fd6d40ded36",
   "metadata": {
    "tags": []
   },
   "outputs": [],
   "source": [
    "# Convert the column to numeric, ignoring errors\n",
    "merged_data['Non-Communicable diseases Age 5-9'] = pd.to_numeric(merged_data['Non-Communicable diseases Age 5-9'], errors='coerce')\n",
    "\n",
    "# Fill missing values with the mean of the numeric values\n",
    "merged_data['Non-Communicable diseases Age 5-9'].fillna(merged_data['Non-Communicable diseases Age 5-9'].mean(), inplace=True)"
   ]
  },
  {
   "cell_type": "code",
   "execution_count": 48,
   "id": "04a6f54e-b3a2-4297-be9c-c0bd33029d0b",
   "metadata": {
    "tags": []
   },
   "outputs": [
    {
     "data": {
      "image/png": "[encoded data removed]",
      "text/plain": [
       "<Figure size 1000x600 with 1 Axes>"
      ]
     },
     "metadata": {},
     "output_type": "display_data"
    }
   ],
   "source": [
    "plt.figure(figsize=(10, 6))\n",
    "sns.lineplot(x='YEARS', y=f'Communicable and maternal and perinatal and nutritional conditions Age 5-9', data=merged_data, label='Communicable Causes')\n",
    "sns.lineplot(x='YEARS',y=f'Non-Communicable diseases Age 5-9',data=merged_data, label='Non-Communicable Causes')\n",
    "sns.lineplot(x='YEARS', y=f'Injuries Age 5-9',data=merged_data, label='Injury Causes')\n",
    "    \n",
    "plt.title(f'Causes of Death for 5-9 Age Group')\n",
    "plt.xlabel('Year')\n",
    "plt.ylabel('Number of Deaths')\n",
    "plt.legend()\n",
    "plt.show()"
   ]
  },
  {
   "cell_type": "code",
   "execution_count": 49,
   "id": "16885911-5246-4efe-8748-e7d5e458ca9d",
   "metadata": {
    "tags": []
   },
   "outputs": [],
   "source": [
    "# Convert the column to numeric, ignoring errors\n",
    "merged_data['Non-Communicable diseases Age 10-14'] = pd.to_numeric(merged_data['Non-Communicable diseases Age 10-14'], errors='coerce')\n",
    "\n",
    "# Fill missing values with the mean of the numeric values\n",
    "merged_data['Non-Communicable diseases Age 10-14'].fillna(merged_data['Non-Communicable diseases Age 10-14'].mean(), inplace=True)"
   ]
  },
  {
   "cell_type": "code",
   "execution_count": 50,
   "id": "edbf60d8-659b-4411-93cc-387290a43ab4",
   "metadata": {
    "tags": []
   },
   "outputs": [
    {
     "data": {
      "image/png": "[encoded data removed]",
      "text/plain": [
       "<Figure size 1000x600 with 1 Axes>"
      ]
     },
     "metadata": {},
     "output_type": "display_data"
    }
   ],
   "source": [
    "plt.figure(figsize=(10, 6))\n",
    "sns.lineplot(x='YEARS', y=f'Communicable and maternal and perinatal and nutritional conditions Age 10-14', data=merged_data, label='Communicable Causes')\n",
    "sns.lineplot(x='YEARS',y=f'Non-Communicable diseases Age 10-14',data=merged_data, label='Non-Communicable Causes')\n",
    "sns.lineplot(x='YEARS', y=f'Injuries Age 10-14',data=merged_data, label='Injury Causes')\n",
    "    \n",
    "plt.title(f'Causes of Death for 10-14 Age Group')\n",
    "plt.xlabel('Year')\n",
    "plt.ylabel('Number of Deaths')\n",
    "plt.legend()\n",
    "plt.show()"
   ]
  },
  {
   "cell_type": "code",
   "execution_count": 51,
   "id": "ce0bd1d2-85e9-426e-abe1-9724c1a50793",
   "metadata": {
    "tags": []
   },
   "outputs": [
    {
     "data": {
      "image/png": "[encoded data removed]",
      "text/plain": [
       "<Figure size 1000x600 with 1 Axes>"
      ]
     },
     "metadata": {},
     "output_type": "display_data"
    }
   ],
   "source": [
    "plt.figure(figsize=(10, 6))\n",
    "sns.lineplot(x='YEARS', y=f'Communicable and maternal and perinatal and nutrition conditions Age 15-19', data=merged_data, label='Communicable Causes')\n",
    "sns.lineplot(x='YEARS', y=f'Injuries Age 15-19',data=merged_data, label='Injury Causes')\n",
    "    \n",
    "plt.title(f'Causes of Death for 15-19 Age Group')\n",
    "plt.xlabel('Year')\n",
    "plt.ylabel('Number of Deaths')\n",
    "plt.legend()\n",
    "plt.show()"
   ]
  },
  {
   "cell_type": "code",
   "execution_count": 52,
   "id": "70f883d9-4c51-4f96-95a7-393d351b4c69",
   "metadata": {
    "tags": []
   },
   "outputs": [
    {
     "data": {
      "image/png": "[encoded data removed]",
      "text/plain": [
       "<Figure size 1000x600 with 1 Axes>"
      ]
     },
     "metadata": {},
     "output_type": "display_data"
    }
   ],
   "source": [
    "plt.figure(figsize=(10, 6))\n",
    "sns.lineplot(x='YEARS', y=f'Communicable and maternal and perinatal and nutritional conditions Age 20-24', data=merged_data, label='Communicable Causes')\n",
    "sns.lineplot(x='YEARS', y=f'Injuries Age 20-24',data=merged_data, label='Injury Causes')\n",
    "    \n",
    "plt.title(f'Causes of Death for 20-24 Age Group')\n",
    "plt.xlabel('Year')\n",
    "plt.ylabel('Number of Deaths')\n",
    "plt.legend()\n",
    "plt.show()"
   ]
  },
  {
   "cell_type": "code",
   "execution_count": 53,
   "id": "9e9d7be3-07c4-4f48-9f53-562401963966",
   "metadata": {
    "tags": []
   },
   "outputs": [
    {
     "name": "stdout",
     "output_type": "stream",
     "text": [
      "     YEARS  MORTALITY RATE 5-9YRS  MORTALITY RATE 10-14YRS  \\\n",
      "0   2000.5              15.757090                 5.640779   \n",
      "1   2001.5              15.268975                 5.555356   \n",
      "2   2002.5              14.745269                 5.451483   \n",
      "3   2003.5              14.171596                 5.321766   \n",
      "4   2004.5              13.592920                 5.183466   \n",
      "5   2005.5              13.033753                 5.049774   \n",
      "6   2006.5              12.534008                 4.932204   \n",
      "7   2007.5              12.113813                 4.840366   \n",
      "8   2008.5              11.750121                 4.757307   \n",
      "9   2009.5              11.446779                 4.697839   \n",
      "10  2010.5              11.217816                 4.663289   \n",
      "11  2011.5              11.048338                 4.652789   \n",
      "12  2012.5              10.911669                 4.657260   \n",
      "13  2013.5              10.787427                 4.658648   \n",
      "14  2014.5              10.657726                 4.653986   \n",
      "15  2015.5              10.483616                 4.629826   \n",
      "16  2016.5              10.295420                 4.586057   \n",
      "17  2017.5              10.044730                 4.511334   \n",
      "18  2018.5               9.809819                 4.439751   \n",
      "19  2019.5               9.562603                 4.365747   \n",
      "\n",
      "    MORTALITY RATE 15-19YRS  MORTALITY RATE 20-24YRS  \\\n",
      "0                 10.704029                17.643290   \n",
      "1                 10.574868                17.408655   \n",
      "2                 10.426914                17.112397   \n",
      "3                 10.251979                16.715363   \n",
      "4                 10.048918                16.275252   \n",
      "5                  9.829258                15.774706   \n",
      "6                  9.597496                15.217914   \n",
      "7                  9.358363                14.676221   \n",
      "8                  9.095644                14.119485   \n",
      "9                  8.833046                13.537094   \n",
      "10                 8.549058                12.968039   \n",
      "11                 8.256492                12.412431   \n",
      "12                 7.958686                11.855163   \n",
      "13                 7.663814                11.362318   \n",
      "14                 7.406321                10.989109   \n",
      "15                 7.181987                10.702227   \n",
      "16                 6.974279                10.496334   \n",
      "17                 6.751159                10.304651   \n",
      "18                 6.537228                10.133185   \n",
      "19                 6.345459                 9.986374   \n",
      "\n",
      "    Communicable and maternal and perinatal and nutritional conditions Age 5-9  \\\n",
      "0                                              165.71                            \n",
      "1                                              160.89                            \n",
      "2                                              154.83                            \n",
      "3                                              148.77                            \n",
      "4                                              141.85                            \n",
      "5                                              133.65                            \n",
      "6                                              126.81                            \n",
      "7                                              118.61                            \n",
      "8                                              112.57                            \n",
      "9                                              106.73                            \n",
      "10                                             101.43                            \n",
      "11                                              97.88                            \n",
      "12                                              96.63                            \n",
      "13                                              93.58                            \n",
      "14                                              90.70                            \n",
      "15                                              86.29                            \n",
      "16                                              82.49                            \n",
      "17                                              78.19                            \n",
      "18                                              72.97                            \n",
      "19                                              69.68                            \n",
      "\n",
      "    Communicable and maternal and perinatal and nutritional conditions Age 10-14  \\\n",
      "0                                               81.67                              \n",
      "1                                               83.64                              \n",
      "2                                               87.15                              \n",
      "3                                               90.46                              \n",
      "4                                               91.62                              \n",
      "5                                               91.45                              \n",
      "6                                               88.91                              \n",
      "7                                               86.77                              \n",
      "8                                               82.91                              \n",
      "9                                               83.21                              \n",
      "10                                              80.18                              \n",
      "11                                              77.99                              \n",
      "12                                              74.85                              \n",
      "13                                              70.68                              \n",
      "14                                              69.66                              \n",
      "15                                              67.86                              \n",
      "16                                              66.37                              \n",
      "17                                              64.10                              \n",
      "18                                              60.03                              \n",
      "19                                              57.22                              \n",
      "\n",
      "    Communicable and maternal and perinatal and nutrition conditions Age 15-19  \\\n",
      "0                                               86.22                            \n",
      "1                                               87.45                            \n",
      "2                                               93.38                            \n",
      "3                                              103.80                            \n",
      "4                                              113.49                            \n",
      "5                                              121.38                            \n",
      "6                                              128.45                            \n",
      "7                                              128.33                            \n",
      "8                                              129.01                            \n",
      "9                                              128.94                            \n",
      "10                                             126.96                            \n",
      "11                                             121.83                            \n",
      "12                                             117.33                            \n",
      "13                                             113.48                            \n",
      "14                                             108.92                            \n",
      "15                                             100.71                            \n",
      "16                                              92.93                            \n",
      "17                                              86.55                            \n",
      "18                                              78.25                            \n",
      "19                                              75.04                            \n",
      "\n",
      "    Communicable and maternal and perinatal and nutritional conditions Age 20-24  \\\n",
      "0                                              238.87                              \n",
      "1                                              226.10                              \n",
      "2                                              215.64                              \n",
      "3                                              209.15                              \n",
      "4                                              199.68                              \n",
      "5                                              184.51                              \n",
      "6                                              174.33                              \n",
      "7                                              166.05                              \n",
      "8                                              158.69                              \n",
      "9                                              151.79                              \n",
      "10                                             142.41                              \n",
      "11                                             137.14                              \n",
      "12                                             133.45                              \n",
      "13                                             130.49                              \n",
      "14                                             128.57                              \n",
      "15                                             124.70                              \n",
      "16                                             118.76                              \n",
      "17                                             111.78                              \n",
      "18                                             104.14                              \n",
      "19                                              99.48                              \n",
      "\n",
      "    Non-Communicable diseases Age 5-9  ...  \\\n",
      "0                            1.291333  ...   \n",
      "1                            1.291333  ...   \n",
      "2                            1.291333  ...   \n",
      "3                            1.150000  ...   \n",
      "4                            0.890000  ...   \n",
      "5                            0.860000  ...   \n",
      "6                            1.291333  ...   \n",
      "7                            1.170000  ...   \n",
      "8                            1.291333  ...   \n",
      "9                            1.290000  ...   \n",
      "10                           1.410000  ...   \n",
      "11                           1.450000  ...   \n",
      "12                           1.260000  ...   \n",
      "13                           1.020000  ...   \n",
      "14                           1.190000  ...   \n",
      "15                           1.290000  ...   \n",
      "16                           1.410000  ...   \n",
      "17                           1.520000  ...   \n",
      "18                           1.720000  ...   \n",
      "19                           1.740000  ...   \n",
      "\n",
      "    Non-Communicable diseases Age 15-19  Non-Communicable diseases Age 20-24  \\\n",
      "0                                   NaN                                  NaN   \n",
      "1                                   NaN                                  NaN   \n",
      "2                                   NaN                                  NaN   \n",
      "3                                   NaN                                  NaN   \n",
      "4                                   NaN                                  NaN   \n",
      "5                                   NaN                                  NaN   \n",
      "6                                   NaN                                  NaN   \n",
      "7                                   NaN                                  NaN   \n",
      "8                                   NaN                                  NaN   \n",
      "9                                   NaN                                  NaN   \n",
      "10                                  NaN                                  NaN   \n",
      "11                                 2.51                                  NaN   \n",
      "12                                 2.46                                  NaN   \n",
      "13                                 2.31                                  NaN   \n",
      "14                                  NaN                                  NaN   \n",
      "15                                  NaN                                  NaN   \n",
      "16                                  NaN                                  NaN   \n",
      "17                                  NaN                                  NaN   \n",
      "18                                  NaN                                  NaN   \n",
      "19                                  NaN                                  NaN   \n",
      "\n",
      "    Injuries Age 5-9  Injuries Age 10-14  Injuries Age 15-19  \\\n",
      "0              13.94               12.57               22.07   \n",
      "1              13.69               12.23               20.61   \n",
      "2              13.05               11.48               20.34   \n",
      "3              13.57                9.74               19.76   \n",
      "4              13.55                6.45               20.35   \n",
      "5              12.31                6.10               22.58   \n",
      "6               8.06                5.89               22.76   \n",
      "7               6.90                6.01               25.78   \n",
      "8               9.47                7.77               30.15   \n",
      "9               7.21                6.23               23.72   \n",
      "10              7.59                6.58               23.57   \n",
      "11              7.96                7.15               25.02   \n",
      "12              9.73                7.65               25.22   \n",
      "13             14.32                7.87               24.93   \n",
      "14             13.66               11.86               23.60   \n",
      "15             13.87               12.50               23.33   \n",
      "16             13.71               12.68               23.00   \n",
      "17             13.81               12.70               23.42   \n",
      "18             13.38               12.58               27.34   \n",
      "19             12.99               12.63               27.34   \n",
      "\n",
      "    Injuries Age 20-24  Total Mortality Sums  \\\n",
      "0                37.23             49.745188   \n",
      "1                35.09             48.807855   \n",
      "2                34.62             47.736062   \n",
      "3                34.24             46.460704   \n",
      "4                34.50             45.100555   \n",
      "5                35.70             43.687490   \n",
      "6                35.26             42.281622   \n",
      "7                34.43             40.988763   \n",
      "8                41.94             39.722557   \n",
      "9                34.87             38.514758   \n",
      "10               33.86             37.398202   \n",
      "11               33.96             36.370050   \n",
      "12               34.40             35.382777   \n",
      "13               33.76             34.472207   \n",
      "14               32.95             33.707142   \n",
      "15               32.51             32.997656   \n",
      "16               31.68             32.352089   \n",
      "17               32.52             31.611874   \n",
      "18               34.11             30.919983   \n",
      "19               34.83             30.260183   \n",
      "\n",
      "    Communicable and maternal and perinatal and nutritional conditions Age 5-24  \\\n",
      "0                                              572.47                             \n",
      "1                                              558.08                             \n",
      "2                                              551.00                             \n",
      "3                                              552.18                             \n",
      "4                                              546.64                             \n",
      "5                                              530.99                             \n",
      "6                                              518.50                             \n",
      "7                                              499.76                             \n",
      "8                                              483.18                             \n",
      "9                                              470.67                             \n",
      "10                                             450.98                             \n",
      "11                                             434.84                             \n",
      "12                                             422.26                             \n",
      "13                                             408.23                             \n",
      "14                                             397.85                             \n",
      "15                                             379.56                             \n",
      "16                                             360.55                             \n",
      "17                                             340.62                             \n",
      "18                                             315.39                             \n",
      "19                                             301.42                             \n",
      "\n",
      "    Non-Communicable diseases Age 5-24  Injuries Age 5-24  \n",
      "0                             2.621333              85.81  \n",
      "1                             2.174970              81.62  \n",
      "2                             2.174970              79.49  \n",
      "3                             2.033636              77.31  \n",
      "4                             1.460000              74.85  \n",
      "5                             1.390000              76.69  \n",
      "6                             2.174970              71.97  \n",
      "7                             2.053636              73.12  \n",
      "8                             2.174970              89.33  \n",
      "9                             2.173636              72.03  \n",
      "10                            1.990000              71.60  \n",
      "11                            4.600000              74.09  \n",
      "12                            4.603636              77.00  \n",
      "13                            4.213636              80.88  \n",
      "14                            2.000000              82.07  \n",
      "15                            2.110000              82.21  \n",
      "16                            2.310000              81.07  \n",
      "17                            2.520000              82.45  \n",
      "18                            2.930000              87.41  \n",
      "19                            3.070000              87.79  \n",
      "\n",
      "[20 rows x 21 columns]\n"
     ]
    }
   ],
   "source": [
    "import pandas as pd\n",
    "\n",
    "# Assuming your DataFrame is named merged_data\n",
    "\n",
    "# List of column groups\n",
    "communicable_cols = ['Communicable and maternal and perinatal and nutritional conditions Age 5-9',\n",
    "                     'Communicable and maternal and perinatal and nutritional conditions Age 10-14',\n",
    "                     'Communicable and maternal and perinatal and nutrition conditions Age 15-19',\n",
    "                     'Communicable and maternal and perinatal and nutritional conditions Age 20-24']\n",
    "\n",
    "non_communicable_cols = ['Non-Communicable diseases Age 5-9',\n",
    "                         'Non-Communicable diseases Age 10-14',\n",
    "                         'Non-Communicable diseases Age 15-19',\n",
    "                         'Non-Communicable diseases Age 20-24']\n",
    "\n",
    "injuries_cols = ['Injuries Age 5-9',\n",
    "                 'Injuries Age 10-14',\n",
    "                 'Injuries Age 15-19',\n",
    "                 'Injuries Age 20-24']\n",
    "\n",
    "# Create new columns by summing corresponding columns for each group\n",
    "merged_data['Communicable and maternal and perinatal and nutritional conditions Age 5-24'] = merged_data[communicable_cols].sum(axis=1)\n",
    "merged_data['Non-Communicable diseases Age 5-24'] = merged_data[non_communicable_cols].sum(axis=1)\n",
    "merged_data['Injuries Age 5-24'] = merged_data[injuries_cols].sum(axis=1)\n",
    "\n",
    "# Display the resulting DataFrame\n",
    "print(merged_data)\n"
   ]
  },
  {
   "cell_type": "code",
   "execution_count": 54,
   "id": "d85c0d88-f6c3-4d73-98fe-c1e9d0a87364",
   "metadata": {
    "tags": []
   },
   "outputs": [
    {
     "data": {
      "image/png": "[encoded data removed]",
      "text/plain": [
       "<Figure size 1000x600 with 1 Axes>"
      ]
     },
     "metadata": {},
     "output_type": "display_data"
    }
   ],
   "source": [
    "plt.figure(figsize=(10, 6))\n",
    "sns.lineplot(x='YEARS', y=f'Communicable and maternal and perinatal and nutritional conditions Age 5-24', data=merged_data, label='Communicable Causes')\n",
    "sns.lineplot(x='YEARS', y=f'Injuries Age 5-24',data=merged_data, label='Injury Causes')\n",
    "sns.lineplot(x='YEARS', y=f'Non-Communicable diseases Age 5-24',data=merged_data,label='Non-Communicable Causes')    \n",
    "plt.title(f'Causes of Death for 5-24 Age Group')\n",
    "plt.xlabel('Year')\n",
    "plt.ylabel('Number of Deaths')\n",
    "plt.legend()\n",
    "plt.show()"
   ]
  },
  {
   "cell_type": "code",
   "execution_count": 55,
   "id": "63daa6fe-9151-43b4-9d8c-0f234738485d",
   "metadata": {
    "tags": []
   },
   "outputs": [
    {
     "data": {
      "image/png": "[encoded data removed]",
      "text/plain": [
       "<Figure size 1000x600 with 1 Axes>"
      ]
     },
     "metadata": {},
     "output_type": "display_data"
    }
   ],
   "source": [
    "plt.figure(figsize=(10, 6))\n",
    "sns.lineplot(x='YEARS',y=f'Total Mortality Sums',data=merged_data, label='Total Mortality Rate')\n",
    "sns.lineplot(x='YEARS', y=f'Communicable and maternal and perinatal and nutritional conditions Age 5-24', data=merged_data, label='Communicable Causes')\n",
    "sns.lineplot(x='YEARS', y=f'Injuries Age 5-24',data=merged_data, label='Injury Causes')\n",
    "sns.lineplot(x='YEARS', y=f'Non-Communicable diseases Age 5-24',data=merged_data,label='Non-Communicable Causes')    \n",
    "plt.title(f'Causes of Death for 5-24 Age Group')\n",
    "plt.xlabel('Year')\n",
    "plt.ylabel('Number of Deaths')\n",
    "plt.legend()\n",
    "plt.show()"
   ]
  },
  {
   "cell_type": "code",
   "execution_count": 56,
   "id": "4157234e-a0b0-430e-b086-6eeaee08e4a9",
   "metadata": {
    "tags": []
   },
   "outputs": [],
   "source": [
    "import pandas as pd\n",
    "import numpy as np\n",
    "from sklearn.model_selection import train_test_split\n",
    "from sklearn.ensemble import RandomForestRegressor\n",
    "from sklearn.metrics import mean_squared_error\n"
   ]
  },
  {
   "cell_type": "code",
   "execution_count": 57,
   "id": "e4c386ae-dd35-4e1b-965e-a2d985052031",
   "metadata": {
    "tags": []
   },
   "outputs": [],
   "source": [
    "# Select relevant features and target variable\n",
    "features = merged_data[['YEARS', 'Communicable and maternal and perinatal and nutritional conditions Age 5-24',\n",
    "                        'Non-Communicable diseases Age 5-24', 'Injuries Age 5-24']]\n",
    "target = merged_data['Total Mortality Sums']\n"
   ]
  },
  {
   "cell_type": "code",
   "execution_count": 58,
   "id": "6e803172-36df-40b9-920a-080ef9f24039",
   "metadata": {
    "tags": []
   },
   "outputs": [],
   "source": [
    "X_train, X_test, y_train, y_test = train_test_split(features, target, test_size=0.2, random_state=42)"
   ]
  },
  {
   "cell_type": "code",
   "execution_count": 59,
   "id": "fa5b235d-d85e-49c2-b087-48c9b75c6a61",
   "metadata": {
    "tags": []
   },
   "outputs": [
    {
     "data": {
      "text/html": [
       "<style>#sk-container-id-1 {color: black;}#sk-container-id-1 pre{padding: 0;}#sk-container-id-1 div.sk-toggleable {background-color: white;}#sk-container-id-1 label.sk-toggleable__label {cursor: pointer;display: block;width: 100%;margin-bottom: 0;padding: 0.3em;box-sizing: border-box;text-align: center;}#sk-container-id-1 label.sk-toggleable__label-arrow:before {content: \"▸\";float: left;margin-right: 0.25em;color: #696969;}#sk-container-id-1 label.sk-toggleable__label-arrow:hover:before {color: black;}#sk-container-id-1 div.sk-estimator:hover label.sk-toggleable__label-arrow:before {color: black;}#sk-container-id-1 div.sk-toggleable__content {max-height: 0;max-width: 0;overflow: hidden;text-align: left;background-color: #f0f8ff;}#sk-container-id-1 div.sk-toggleable__content pre {margin: 0.2em;color: black;border-radius: 0.25em;background-color: #f0f8ff;}#sk-container-id-1 input.sk-toggleable__control:checked~div.sk-toggleable__content {max-height: 200px;max-width: 100%;overflow: auto;}#sk-container-id-1 input.sk-toggleable__control:checked~label.sk-toggleable__label-arrow:before {content: \"▾\";}#sk-container-id-1 div.sk-estimator input.sk-toggleable__control:checked~label.sk-toggleable__label {background-color: #d4ebff;}#sk-container-id-1 div.sk-label input.sk-toggleable__control:checked~label.sk-toggleable__label {background-color: #d4ebff;}#sk-container-id-1 input.sk-hidden--visually {border: 0;clip: rect(1px 1px 1px 1px);clip: rect(1px, 1px, 1px, 1px);height: 1px;margin: -1px;overflow: hidden;padding: 0;position: absolute;width: 1px;}#sk-container-id-1 div.sk-estimator {font-family: monospace;background-color: #f0f8ff;border: 1px dotted black;border-radius: 0.25em;box-sizing: border-box;margin-bottom: 0.5em;}#sk-container-id-1 div.sk-estimator:hover {background-color: #d4ebff;}#sk-container-id-1 div.sk-parallel-item::after {content: \"\";width: 100%;border-bottom: 1px solid gray;flex-grow: 1;}#sk-container-id-1 div.sk-label:hover label.sk-toggleable__label {background-color: #d4ebff;}#sk-container-id-1 div.sk-serial::before {content: \"\";position: absolute;border-left: 1px solid gray;box-sizing: border-box;top: 0;bottom: 0;left: 50%;z-index: 0;}#sk-container-id-1 div.sk-serial {display: flex;flex-direction: column;align-items: center;background-color: white;padding-right: 0.2em;padding-left: 0.2em;position: relative;}#sk-container-id-1 div.sk-item {position: relative;z-index: 1;}#sk-container-id-1 div.sk-parallel {display: flex;align-items: stretch;justify-content: center;background-color: white;position: relative;}#sk-container-id-1 div.sk-item::before, #sk-container-id-1 div.sk-parallel-item::before {content: \"\";position: absolute;border-left: 1px solid gray;box-sizing: border-box;top: 0;bottom: 0;left: 50%;z-index: -1;}#sk-container-id-1 div.sk-parallel-item {display: flex;flex-direction: column;z-index: 1;position: relative;background-color: white;}#sk-container-id-1 div.sk-parallel-item:first-child::after {align-self: flex-end;width: 50%;}#sk-container-id-1 div.sk-parallel-item:last-child::after {align-self: flex-start;width: 50%;}#sk-container-id-1 div.sk-parallel-item:only-child::after {width: 0;}#sk-container-id-1 div.sk-dashed-wrapped {border: 1px dashed gray;margin: 0 0.4em 0.5em 0.4em;box-sizing: border-box;padding-bottom: 0.4em;background-color: white;}#sk-container-id-1 div.sk-label label {font-family: monospace;font-weight: bold;display: inline-block;line-height: 1.2em;}#sk-container-id-1 div.sk-label-container {text-align: center;}#sk-container-id-1 div.sk-container {/* jupyter's `normalize.less` sets `[hidden] { display: none; }` but bootstrap.min.css set `[hidden] { display: none !important; }` so we also need the `!important` here to be able to override the default hidden behavior on the sphinx rendered scikit-learn.org. See: https://github.com/scikit-learn/scikit-learn/issues/21755 */display: inline-block !important;position: relative;}#sk-container-id-1 div.sk-text-repr-fallback {display: none;}</style><div id=\"sk-container-id-1\" class=\"sk-top-container\"><div class=\"sk-text-repr-fallback\"><pre>RandomForestRegressor(random_state=42)</pre><b>In a Jupyter environment, please rerun this cell to show the HTML representation or trust the notebook. <br />On GitHub, the HTML representation is unable to render, please try loading this page with nbviewer.org.</b></div><div class=\"sk-container\" hidden><div class=\"sk-item\"><div class=\"sk-estimator sk-toggleable\"><input class=\"sk-toggleable__control sk-hidden--visually\" id=\"sk-estimator-id-1\" type=\"checkbox\" checked><label for=\"sk-estimator-id-1\" class=\"sk-toggleable__label sk-toggleable__label-arrow\">RandomForestRegressor</label><div class=\"sk-toggleable__content\"><pre>RandomForestRegressor(random_state=42)</pre></div></div></div></div></div>"
      ],
      "text/plain": [
       "RandomForestRegressor(random_state=42)"
      ]
     },
     "execution_count": 59,
     "metadata": {},
     "output_type": "execute_result"
    }
   ],
   "source": [
    "model = RandomForestRegressor(n_estimators=100, random_state=42)\n",
    "model.fit(X_train, y_train)"
   ]
  },
  {
   "cell_type": "code",
   "execution_count": 60,
   "id": "068593be-f751-4cdd-b223-9d837f5a06f8",
   "metadata": {
    "tags": []
   },
   "outputs": [],
   "source": [
    "predictions = model.predict(X_test)"
   ]
  },
  {
   "cell_type": "code",
   "execution_count": 61,
   "id": "ce31caca-2cfa-4d94-aa81-12cbf4a17f7d",
   "metadata": {
    "tags": []
   },
   "outputs": [
    {
     "name": "stdout",
     "output_type": "stream",
     "text": [
      "Mean Squared Error: 5.175101773784513\n"
     ]
    }
   ],
   "source": [
    "mse = mean_squared_error(y_test, predictions)\n",
    "print(f'Mean Squared Error: {mse}')"
   ]
  },
  {
   "cell_type": "code",
   "execution_count": 62,
   "id": "331681fe-1996-4175-ae13-894621cc4a58",
   "metadata": {
    "tags": []
   },
   "outputs": [
    {
     "name": "stdout",
     "output_type": "stream",
     "text": [
      "R-squared Score: 0.9284811823441761\n"
     ]
    }
   ],
   "source": [
    "from sklearn.metrics import r2_score\n",
    "r2 = r2_score(y_test, predictions)\n",
    "print(f'R-squared Score: {r2}')\n"
   ]
  },
  {
   "cell_type": "code",
   "execution_count": 63,
   "id": "3d8b08b9-d60c-4ca9-b8d7-72c38cd04e95",
   "metadata": {
    "tags": []
   },
   "outputs": [
    {
     "data": {
      "image/png": "[encoded data removed]",
      "text/plain": [
       "<Figure size 640x480 with 1 Axes>"
      ]
     },
     "metadata": {},
     "output_type": "display_data"
    }
   ],
   "source": [
    "import matplotlib.pyplot as plt\n",
    "plt.scatter(y_test, predictions)\n",
    "plt.xlabel('Actual Values')\n",
    "plt.ylabel('Predicted Values')\n",
    "plt.title('Actual vs. Predicted Values')\n",
    "plt.show()\n"
   ]
  },
  {
   "cell_type": "code",
   "execution_count": 64,
   "id": "d869fdb9-6db5-4754-ace3-e447cf486aab",
   "metadata": {
    "tags": []
   },
   "outputs": [
    {
     "name": "stdout",
     "output_type": "stream",
     "text": [
      "Feature Importance: [0.45475634 0.45539271 0.05033517 0.03951578]\n"
     ]
    }
   ],
   "source": [
    "feature_importance = model.feature_importances_\n",
    "print(\"Feature Importance:\", feature_importance)\n"
   ]
  },
  {
   "cell_type": "code",
   "execution_count": 65,
   "id": "ff3bc115-5eaf-4bc1-86c2-9090b016aac4",
   "metadata": {
    "tags": []
   },
   "outputs": [
    {
     "data": {
      "image/png": "[encoded data removed]",
      "text/plain": [
       "<Figure size 640x480 with 1 Axes>"
      ]
     },
     "metadata": {},
     "output_type": "display_data"
    }
   ],
   "source": [
    "importances = pd.Series(feature_importance, index=features.columns)\n",
    "importances.nlargest(10).plot(kind='barh')\n",
    "plt.title('Top 10 Feature Importance')\n",
    "plt.show()\n"
   ]
  },
  {
   "cell_type": "code",
   "execution_count": 66,
   "id": "225a9718-63fe-4dfc-8336-a6c05ef8ca52",
   "metadata": {
    "tags": []
   },
   "outputs": [
    {
     "name": "stdout",
     "output_type": "stream",
     "text": [
      "Cross-Validation Scores: [-17.11425338  -0.95967309  -2.93740222  -0.28105674  -9.08460519]\n"
     ]
    }
   ],
   "source": [
    "from sklearn.model_selection import cross_val_score\n",
    "cv_scores = cross_val_score(model, features, target, cv=5)\n",
    "print(\"Cross-Validation Scores:\", cv_scores)\n"
   ]
  },
  {
   "cell_type": "code",
   "execution_count": null,
   "id": "083c9085-18ad-41f9-ad3d-d1332fb236c4",
   "metadata": {},
   "outputs": [],
   "source": []
  }
 ],
 "metadata": {
  "kernelspec": {
   "display_name": "Python 3 (ipykernel)",
   "language": "python",
   "name": "python3"
  },
  "language_info": {
   "codemirror_mode": {
    "name": "ipython",
    "version": 3
   },
   "file_extension": ".py",
   "mimetype": "text/x-python",
   "name": "python",
   "nbconvert_exporter": "python",
   "pygments_lexer": "ipython3",
   "version": "3.11.4"
  }
 },
 "nbformat": 4,
 "nbformat_minor": 5
}
